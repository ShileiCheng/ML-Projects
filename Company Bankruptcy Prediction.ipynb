{
 "cells": [
  {
   "cell_type": "markdown",
   "metadata": {},
   "source": [
    "# Problem description\n",
    "\n",
    "You are to predict whether a company will go bankrupt in the following year, based on financial attributes of the company.\n",
    "\n",
    "Perhaps you are contemplating lending money to a company, and need to know whether the company\n",
    "is in near-term danger of not being able to repay.\n"
   ]
  },
  {
   "cell_type": "markdown",
   "metadata": {},
   "source": [
    "## Goal"
   ]
  },
  {
   "cell_type": "markdown",
   "metadata": {
    "slideshow": {
     "slide_type": "fragment"
    }
   },
   "source": [
    "## Learning objectives\n",
    "\n",
    "- Demonstrate mastery on solving a classification problem and presenting\n",
    "the entire Recipe for Machine Learning process in a notebook.\n",
    "- We will make suggestions for ways to approach the problem\n",
    "    - But there will be little explicit direction for this task.\n",
    "- It is meant to be analogous to a pre-interview task that a potential employer might assign\n",
    "to verify your skill"
   ]
  },
  {
   "cell_type": "markdown",
   "metadata": {},
   "source": [
    "# Import modules"
   ]
  },
  {
   "cell_type": "code",
   "execution_count": 30,
   "metadata": {},
   "outputs": [],
   "source": [
    "## Standard imports\n",
    "import numpy as np\n",
    "import pandas as pd\n",
    "import matplotlib.pyplot as plt\n",
    "\n",
    "import sklearn\n",
    "\n",
    "import os\n",
    "import math\n",
    "\n",
    "%matplotlib inline\n"
   ]
  },
  {
   "cell_type": "markdown",
   "metadata": {},
   "source": [
    "# API for students"
   ]
  },
  {
   "cell_type": "code",
   "execution_count": 31,
   "metadata": {},
   "outputs": [
    {
     "name": "stdout",
     "output_type": "stream",
     "text": [
      "The autoreload extension is already loaded. To reload it, use:\n",
      "  %reload_ext autoreload\n"
     ]
    }
   ],
   "source": [
    "## Load the bankruptcy_helper module\n",
    "\n",
    "from IPython.core.interactiveshell import InteractiveShell\n",
    "InteractiveShell.ast_node_interactivity = \"all\"\n",
    "\n",
    "# Reload all modules imported with %aimport\n",
    "%load_ext autoreload\n",
    "%autoreload 1\n",
    "\n",
    "# Import bankruptcy_helper module\n",
    "import bankruptcy_helper\n",
    "%aimport bankruptcy_helper\n",
    "\n",
    "helper = bankruptcy_helper.Helper()"
   ]
  },
  {
   "cell_type": "markdown",
   "metadata": {},
   "source": [
    "# Get the data\n",
    "\n",
    "The first step in our Recipe is Get the Data.\n",
    "\n",
    "- Each example is a row of data corresponding to a single company\n",
    "- There are 64 attributes, described in the section below\n",
    "- The column `Bankrupt` is 1 if the company subsequently went bankrupt; 0 if it did not go bankrupt\n",
    "- The column `Id` is a Company Identifier"
   ]
  },
  {
   "cell_type": "code",
   "execution_count": 32,
   "metadata": {},
   "outputs": [
    {
     "name": "stdout",
     "output_type": "stream",
     "text": [
      "Date shape:  (4818, 66)\n"
     ]
    }
   ],
   "source": [
    "# Data directory\n",
    "DATA_DIR = \"./Data\"\n",
    "\n",
    "if not os.path.isdir(DATA_DIR):\n",
    "    DATA_DIR = \"../resource/asnlib/publicdata/bankruptcy/data\"\n",
    "\n",
    "data_file = \"5th_yr.csv\"\n",
    "data = pd.read_csv( os.path.join(DATA_DIR, \"train\", data_file) )\n",
    "\n",
    "target_attr = \"Bankrupt\"\n",
    "\n",
    "n_samples, n_attrs = data.shape\n",
    "print(\"Date shape: \", data.shape)"
   ]
  },
  {
   "cell_type": "markdown",
   "metadata": {},
   "source": [
    "## Have a look at the data\n",
    "\n",
    "We will not go through all steps in the Recipe, nor in depth.\n",
    "\n",
    "But here's a peek"
   ]
  },
  {
   "cell_type": "code",
   "execution_count": 33,
   "metadata": {},
   "outputs": [
    {
     "data": {
      "text/html": [
       "<div>\n",
       "<style scoped>\n",
       "    .dataframe tbody tr th:only-of-type {\n",
       "        vertical-align: middle;\n",
       "    }\n",
       "\n",
       "    .dataframe tbody tr th {\n",
       "        vertical-align: top;\n",
       "    }\n",
       "\n",
       "    .dataframe thead th {\n",
       "        text-align: right;\n",
       "    }\n",
       "</style>\n",
       "<table border=\"1\" class=\"dataframe\">\n",
       "  <thead>\n",
       "    <tr style=\"text-align: right;\">\n",
       "      <th></th>\n",
       "      <th>X1</th>\n",
       "      <th>X2</th>\n",
       "      <th>X3</th>\n",
       "      <th>X4</th>\n",
       "      <th>X5</th>\n",
       "      <th>X6</th>\n",
       "      <th>X7</th>\n",
       "      <th>X8</th>\n",
       "      <th>X9</th>\n",
       "      <th>X10</th>\n",
       "      <th>...</th>\n",
       "      <th>X57</th>\n",
       "      <th>X58</th>\n",
       "      <th>X59</th>\n",
       "      <th>X60</th>\n",
       "      <th>X61</th>\n",
       "      <th>X62</th>\n",
       "      <th>X63</th>\n",
       "      <th>X64</th>\n",
       "      <th>Bankrupt</th>\n",
       "      <th>Id</th>\n",
       "    </tr>\n",
       "  </thead>\n",
       "  <tbody>\n",
       "    <tr>\n",
       "      <th>0</th>\n",
       "      <td>0.025417</td>\n",
       "      <td>0.41769</td>\n",
       "      <td>0.0568</td>\n",
       "      <td>1.1605</td>\n",
       "      <td>-126.39</td>\n",
       "      <td>0.41355</td>\n",
       "      <td>0.025417</td>\n",
       "      <td>1.2395</td>\n",
       "      <td>1.16500</td>\n",
       "      <td>0.51773</td>\n",
       "      <td>...</td>\n",
       "      <td>0.049094</td>\n",
       "      <td>0.85835</td>\n",
       "      <td>0.12322</td>\n",
       "      <td>5.6167</td>\n",
       "      <td>7.4042</td>\n",
       "      <td>164.310</td>\n",
       "      <td>2.2214</td>\n",
       "      <td>1.334</td>\n",
       "      <td>0</td>\n",
       "      <td>4510</td>\n",
       "    </tr>\n",
       "    <tr>\n",
       "      <th>1</th>\n",
       "      <td>-0.023834</td>\n",
       "      <td>0.2101</td>\n",
       "      <td>0.50839</td>\n",
       "      <td>4.2374</td>\n",
       "      <td>22.034</td>\n",
       "      <td>0.058412</td>\n",
       "      <td>-0.027621</td>\n",
       "      <td>3.6579</td>\n",
       "      <td>0.98183</td>\n",
       "      <td>0.76855</td>\n",
       "      <td>...</td>\n",
       "      <td>-0.031011</td>\n",
       "      <td>1.01850</td>\n",
       "      <td>0.069047</td>\n",
       "      <td>5.7996</td>\n",
       "      <td>7.7529</td>\n",
       "      <td>26.446</td>\n",
       "      <td>13.802</td>\n",
       "      <td>6.4782</td>\n",
       "      <td>0</td>\n",
       "      <td>3537</td>\n",
       "    </tr>\n",
       "    <tr>\n",
       "      <th>2</th>\n",
       "      <td>0.030515</td>\n",
       "      <td>0.44606</td>\n",
       "      <td>0.19569</td>\n",
       "      <td>1.565</td>\n",
       "      <td>35.766</td>\n",
       "      <td>0.28196</td>\n",
       "      <td>0.039264</td>\n",
       "      <td>0.88456</td>\n",
       "      <td>1.05260</td>\n",
       "      <td>0.39457</td>\n",
       "      <td>...</td>\n",
       "      <td>0.077337</td>\n",
       "      <td>0.95006</td>\n",
       "      <td>0.25266</td>\n",
       "      <td>15.049</td>\n",
       "      <td>2.8179</td>\n",
       "      <td>104.730</td>\n",
       "      <td>3.4852</td>\n",
       "      <td>2.6361</td>\n",
       "      <td>0</td>\n",
       "      <td>3920</td>\n",
       "    </tr>\n",
       "    <tr>\n",
       "      <th>3</th>\n",
       "      <td>0.052318</td>\n",
       "      <td>0.056366</td>\n",
       "      <td>0.54562</td>\n",
       "      <td>10.68</td>\n",
       "      <td>438.2</td>\n",
       "      <td>0.13649</td>\n",
       "      <td>0.058164</td>\n",
       "      <td>10.853</td>\n",
       "      <td>1.02790</td>\n",
       "      <td>0.61173</td>\n",
       "      <td>...</td>\n",
       "      <td>0.085524</td>\n",
       "      <td>0.97282</td>\n",
       "      <td>0</td>\n",
       "      <td>6.0157</td>\n",
       "      <td>7.4626</td>\n",
       "      <td>48.756</td>\n",
       "      <td>7.4863</td>\n",
       "      <td>1.0602</td>\n",
       "      <td>0</td>\n",
       "      <td>1806</td>\n",
       "    </tr>\n",
       "    <tr>\n",
       "      <th>4</th>\n",
       "      <td>0.000992</td>\n",
       "      <td>0.49712</td>\n",
       "      <td>0.12316</td>\n",
       "      <td>1.3036</td>\n",
       "      <td>-71.398</td>\n",
       "      <td>0</td>\n",
       "      <td>0.001007</td>\n",
       "      <td>1.0116</td>\n",
       "      <td>1.29210</td>\n",
       "      <td>0.50288</td>\n",
       "      <td>...</td>\n",
       "      <td>0.001974</td>\n",
       "      <td>0.99925</td>\n",
       "      <td>0.019736</td>\n",
       "      <td>3.4819</td>\n",
       "      <td>8.582</td>\n",
       "      <td>114.580</td>\n",
       "      <td>3.1854</td>\n",
       "      <td>2.742</td>\n",
       "      <td>0</td>\n",
       "      <td>1529</td>\n",
       "    </tr>\n",
       "  </tbody>\n",
       "</table>\n",
       "<p>5 rows × 66 columns</p>\n",
       "</div>"
      ],
      "text/plain": [
       "          X1        X2       X3      X4       X5        X6         X7  \\\n",
       "0   0.025417   0.41769   0.0568  1.1605  -126.39   0.41355   0.025417   \n",
       "1  -0.023834    0.2101  0.50839  4.2374   22.034  0.058412  -0.027621   \n",
       "2   0.030515   0.44606  0.19569   1.565   35.766   0.28196   0.039264   \n",
       "3   0.052318  0.056366  0.54562   10.68    438.2   0.13649   0.058164   \n",
       "4   0.000992   0.49712  0.12316  1.3036  -71.398         0   0.001007   \n",
       "\n",
       "        X8       X9      X10  ...        X57      X58       X59     X60  \\\n",
       "0   1.2395  1.16500  0.51773  ...   0.049094  0.85835   0.12322  5.6167   \n",
       "1   3.6579  0.98183  0.76855  ...  -0.031011  1.01850  0.069047  5.7996   \n",
       "2  0.88456  1.05260  0.39457  ...   0.077337  0.95006   0.25266  15.049   \n",
       "3   10.853  1.02790  0.61173  ...   0.085524  0.97282         0  6.0157   \n",
       "4   1.0116  1.29210  0.50288  ...   0.001974  0.99925  0.019736  3.4819   \n",
       "\n",
       "      X61      X62     X63     X64  Bankrupt    Id  \n",
       "0  7.4042  164.310  2.2214   1.334         0  4510  \n",
       "1  7.7529   26.446  13.802  6.4782         0  3537  \n",
       "2  2.8179  104.730  3.4852  2.6361         0  3920  \n",
       "3  7.4626   48.756  7.4863  1.0602         0  1806  \n",
       "4   8.582  114.580  3.1854   2.742         0  1529  \n",
       "\n",
       "[5 rows x 66 columns]"
      ]
     },
     "execution_count": 33,
     "metadata": {},
     "output_type": "execute_result"
    }
   ],
   "source": [
    "data.head()"
   ]
  },
  {
   "cell_type": "markdown",
   "metadata": {},
   "source": [
    "Pretty *unhelpful* !\n",
    "\n",
    "What are these mysteriously named features ?\n",
    "\n",
    "## Description of attributes"
   ]
  },
  {
   "cell_type": "markdown",
   "metadata": {},
   "source": [
    "Attribute Information:\n",
    "\n",
    "Id Company Identifier \n",
    "- X1 net profit / total assets\n",
    "- X2 total liabilities / total assets\n",
    "- X3 working capital / total assets\n",
    "- X4 current assets / short-term liabilities\n",
    "- X5 [(cash + short-term securities + receivables - short-term liabilities) / (operating expenses - depreciation)] * 365\n",
    "- X6 retained earnings / total assets\n",
    "- X7 EBIT / total assets\n",
    "- X8 book value of equity / total liabilities\n",
    "- X9 sales / total assets\n",
    "- X10 equity / total assets\n",
    "- X11 (gross profit + extraordinary items + financial expenses) / total assets\n",
    "- X12 gross profit / short-term liabilities\n",
    "- X13 (gross profit + depreciation) / sales\n",
    "- X14 (gross profit + interest) / total assets\n",
    "- X15 (total liabilities * 365) / (gross profit + depreciation)\n",
    "- X16 (gross profit + depreciation) / total liabilities\n",
    "- X17 total assets / total liabilities\n",
    "- X18 gross profit / total assets\n",
    "- X19 gross profit / sales\n",
    "- X20 (inventory * 365) / sales\n",
    "- X21 sales (n) / sales (n-1)\n",
    "- X22 profit on operating activities / total assets\n",
    "- X23 net profit / sales\n",
    "- X24 gross profit (in 3 years) / total assets\n",
    "- X25 (equity - share capital) / total assets\n",
    "- X26 (net profit + depreciation) / total liabilities\n",
    "- X27 profit on operating activities / financial expenses\n",
    "- X28 working capital / fixed assets\n",
    "- X29 logarithm of total assets\n",
    "- X30 (total liabilities - cash) / sales\n",
    "- X31 (gross profit + interest) / sales\n",
    "- X32 (current liabilities * 365) / cost of products sold\n",
    "- X33 operating expenses / short-term liabilities\n",
    "- X34 operating expenses / total liabilities\n",
    "- X35 profit on sales / total assets\n",
    "- X36 total sales / total assets\n",
    "- X37 (current assets - inventories) / long-term liabilities\n",
    "- X38 constant capital / total assets\n",
    "- X39 profit on sales / sales\n",
    "- X40 (current assets - inventory - receivables) / short-term liabilities\n",
    "- X41 total liabilities / ((profit on operating activities + depreciation) * (12/365))\n",
    "- X42 profit on operating activities / sales\n",
    "- X43 rotation receivables + inventory turnover in days\n",
    "- X44 (receivables * 365) / sales\n",
    "- X45 net profit / inventory\n",
    "- X46 (current assets - inventory) / short-term liabilities\n",
    "- X47 (inventory * 365) / cost of products sold\n",
    "- X48 EBITDA (profit on operating activities - depreciation) / total assets\n",
    "- X49 EBITDA (profit on operating activities - depreciation) / sales\n",
    "- X50 current assets / total liabilities\n",
    "- X51 short-term liabilities / total assets\n",
    "- X52 (short-term liabilities * 365) / cost of products sold)\n",
    "- X53 equity / fixed assets\n",
    "- X54 constant capital / fixed assets\n",
    "- X55 working capital\n",
    "- X56 (sales - cost of products sold) / sales\n",
    "- X57 (current assets - inventory - short-term liabilities) / (sales - gross profit - depreciation)\n",
    "- X58 total costs /total sales\n",
    "- X59 long-term liabilities / equity\n",
    "- X60 sales / inventory\n",
    "- X61 sales / receivables\n",
    "- X62 (short-term liabilities *365) / sales\n",
    "- X63 sales / short-term liabilities\n",
    "- X64 sales / fixed assets"
   ]
  },
  {
   "cell_type": "markdown",
   "metadata": {},
   "source": [
    "This may still be somewhat unhelpful for those of you not used to reading Financial Statements.\n",
    "\n",
    "But that's partially the point of the exercise\n",
    "- You can *still* perform Machine Learning *even if* you are not an expert in the problem domain\n",
    "    - That's what makes this a good interview exercise: you can demonstrate your thought process even if you don't know the exact meaning of the terms\n",
    "- Of course: becoming an expert in the domain *will improve* your ability to create better models\n",
    "    - Feature engineering is easier if you understand the features, their inter-relationships, and the relationship to the target"
   ]
  },
  {
   "cell_type": "markdown",
   "metadata": {},
   "source": [
    "Let's get a feel for the data\n",
    "- What is the type of each attribute ?\n"
   ]
  },
  {
   "cell_type": "code",
   "execution_count": 34,
   "metadata": {},
   "outputs": [
    {
     "name": "stdout",
     "output_type": "stream",
     "text": [
      "<class 'pandas.core.frame.DataFrame'>\n",
      "RangeIndex: 4818 entries, 0 to 4817\n",
      "Data columns (total 66 columns):\n",
      " #   Column    Non-Null Count  Dtype  \n",
      "---  ------    --------------  -----  \n",
      " 0   X1        4818 non-null   object \n",
      " 1   X2        4818 non-null   object \n",
      " 2   X3        4818 non-null   object \n",
      " 3   X4        4818 non-null   object \n",
      " 4   X5        4818 non-null   object \n",
      " 5   X6        4818 non-null   object \n",
      " 6   X7        4818 non-null   object \n",
      " 7   X8        4818 non-null   object \n",
      " 8   X9        4818 non-null   float64\n",
      " 9   X10       4818 non-null   object \n",
      " 10  X11       4818 non-null   object \n",
      " 11  X12       4818 non-null   object \n",
      " 12  X13       4818 non-null   float64\n",
      " 13  X14       4818 non-null   object \n",
      " 14  X15       4818 non-null   object \n",
      " 15  X16       4818 non-null   object \n",
      " 16  X17       4818 non-null   object \n",
      " 17  X18       4818 non-null   object \n",
      " 18  X19       4818 non-null   float64\n",
      " 19  X20       4818 non-null   float64\n",
      " 20  X21       4818 non-null   object \n",
      " 21  X22       4818 non-null   object \n",
      " 22  X23       4818 non-null   float64\n",
      " 23  X24       4818 non-null   object \n",
      " 24  X25       4818 non-null   object \n",
      " 25  X26       4818 non-null   object \n",
      " 26  X27       4818 non-null   object \n",
      " 27  X28       4818 non-null   object \n",
      " 28  X29       4818 non-null   object \n",
      " 29  X30       4818 non-null   float64\n",
      " 30  X31       4818 non-null   float64\n",
      " 31  X32       4818 non-null   object \n",
      " 32  X33       4818 non-null   object \n",
      " 33  X34       4818 non-null   object \n",
      " 34  X35       4818 non-null   object \n",
      " 35  X36       4818 non-null   object \n",
      " 36  X37       4818 non-null   object \n",
      " 37  X38       4818 non-null   object \n",
      " 38  X39       4818 non-null   float64\n",
      " 39  X40       4818 non-null   object \n",
      " 40  X41       4818 non-null   object \n",
      " 41  X42       4818 non-null   float64\n",
      " 42  X43       4818 non-null   float64\n",
      " 43  X44       4818 non-null   float64\n",
      " 44  X45       4818 non-null   object \n",
      " 45  X46       4818 non-null   object \n",
      " 46  X47       4818 non-null   object \n",
      " 47  X48       4818 non-null   object \n",
      " 48  X49       4818 non-null   float64\n",
      " 49  X50       4818 non-null   object \n",
      " 50  X51       4818 non-null   object \n",
      " 51  X52       4818 non-null   object \n",
      " 52  X53       4818 non-null   object \n",
      " 53  X54       4818 non-null   object \n",
      " 54  X55       4818 non-null   float64\n",
      " 55  X56       4818 non-null   float64\n",
      " 56  X57       4818 non-null   object \n",
      " 57  X58       4818 non-null   float64\n",
      " 58  X59       4818 non-null   object \n",
      " 59  X60       4818 non-null   object \n",
      " 60  X61       4818 non-null   object \n",
      " 61  X62       4818 non-null   float64\n",
      " 62  X63       4818 non-null   object \n",
      " 63  X64       4818 non-null   object \n",
      " 64  Bankrupt  4818 non-null   int64  \n",
      " 65  Id        4818 non-null   int64  \n",
      "dtypes: float64(16), int64(2), object(48)\n",
      "memory usage: 2.4+ MB\n"
     ]
    }
   ],
   "source": [
    "data.info()"
   ]
  },
  {
   "cell_type": "markdown",
   "metadata": {},
   "source": [
    "You may be puzzled:\n",
    "- Most attributes are `object` and *not* numeric (`float64`)\n",
    "- But looking at the data via `data.head()` certainly gives the impression that all attributes are numeric\n",
    "\n",
    "Welcome to the world of messy data !  The dataset has represented numbers as strings.\n",
    "- These little unexpected challenges are common in the real-word\n",
    "- Data is rarely perfect and clean"
   ]
  },
  {
   "cell_type": "markdown",
   "metadata": {},
   "source": [
    "So you might want to first convert all attributes to numeric\n",
    "\n",
    "**Hint**\n",
    "- Look up the Pandas method `to_numeric`\n",
    "    - We suggest you use the option `errors='coerce'`\n",
    "    "
   ]
  },
  {
   "cell_type": "markdown",
   "metadata": {},
   "source": [
    "# Evaluating your project"
   ]
  },
  {
   "cell_type": "markdown",
   "metadata": {},
   "source": [
    "We will evaluate your submission on a test dataset that we provide\n",
    "- It has no labels, so **you** can't use it to evaluate your model, but **we** have the labels\n",
    "- We will call this evaluation dataset the \"holdout\" data\n",
    "\n",
    "Let's get it"
   ]
  },
  {
   "cell_type": "code",
   "execution_count": 35,
   "metadata": {},
   "outputs": [
    {
     "name": "stdout",
     "output_type": "stream",
     "text": [
      "Data shape:  (1092, 65)\n"
     ]
    }
   ],
   "source": [
    "holdout_data = pd.read_csv( os.path.join(DATA_DIR, \"holdout\", '5th_yr.csv') )\n",
    "\n",
    "print(\"Data shape: \", holdout_data.shape)\n"
   ]
  },
  {
   "cell_type": "markdown",
   "metadata": {},
   "source": [
    "We will evaluate your model on the holdout examples using metrics\n",
    "- Accuracy\n",
    "- Recall\n",
    "- Precision\n",
    "\n",
    "From our lecture: we may have to make a trade-off between Recall and Precision.\n",
    "\n",
    "Our evaluation of your submission will be partially based on how you made (and described) the trade-off.\n",
    "\n",
    "You may assume that it is 5 times worse to *fail to identify a company that will go bankrupt*\n",
    "than it is to fail to identify a company that won't go bankrupt."
   ]
  },
  {
   "cell_type": "markdown",
   "metadata": {},
   "source": [
    "# Your model\n",
    "\n",
    "Time for you to continue the Recipe for Machine Learning on your own.\n",
    "\n"
   ]
  },
  {
   "cell_type": "markdown",
   "metadata": {},
   "source": [
    "## Submission guidelines\n",
    "\n",
    "Although your notebook may contain many models (e.g., due to your iterative development)\n",
    "we will only evaluate a single model.\n",
    "So choose one (explain why !) and do the following.\n",
    "\n",
    "- You will implement the body of a subroutine `MyModel`\n",
    "    - That takes as argument a Pandas DataFrame \n",
    "        - Each row is an example on which to predict\n",
    "        - The features of the example are elements of the row\n",
    "    - Performs predictions on each example\n",
    "    - Returns an array or predictions with a one-to-one correspondence with the examples in the test set\n",
    "    "
   ]
  },
  {
   "cell_type": "markdown",
   "metadata": {},
   "source": [
    "We will evaluate your model against the holdout data\n",
    "- By reading the holdout examples `X_hold` (as above)\n",
    "- Calling `y_hold_pred = MyModel(X_hold)` to get the predictions\n",
    "- Comparing the predicted values `y_hold_pred` against the true labels `y_hold` which are known only to the instructors\n",
    "\n",
    "See the following cell as an illustration"
   ]
  },
  {
   "cell_type": "raw",
   "metadata": {},
   "source": [
    "X_hold = pd.read_csv( os.path.join(DATA_DIR, \"holdout\", '5th_yr.csv') )\n",
    "\n",
    "# Predict using MyModel\n",
    "y_hold_pred = MyModel(X_hold)\n",
    "\n",
    "# Compute metrics\n",
    "# accuracy\n",
    "accuracy_hold = accuracy_score(y_hold, y_hold_pred)\n",
    "\n",
    "# recall_\n",
    "recall_hold = recall_score(y_hold, y_hold_pred, pos_label=1, average=\"binary\")\n",
    "\n",
    "# precision\n",
    "precision_hold = precision_score(y_hold,   y_hold_pred, pos_label=1, average=\"binary\")\n",
    "\n",
    "\n",
    "print(\"\\t{m:s} Accuracy: {a:3.1%}, Recall {r:3.1%}, Precision {p:3.1%}\".format(m=name,\n",
    "                                                                            a=accuracy_hold,\n",
    "                                                                            r=recall_hold,\n",
    "                                                                            p=precision_hold\n",
    "                                                                            )\n",
    "         )"
   ]
  },
  {
   "cell_type": "markdown",
   "metadata": {},
   "source": [
    "**Remember**\n",
    "\n",
    "The holdout data is in the same format as the one we used for training\n",
    "- Except that it has no attribute for the target\n",
    "- So you will need to perform all the transformations on the holdout data\n",
    "    - As you did on the training data\n",
    "    - Including turning the string representation of numbers into actual numeric data types\n",
    "\n",
    "All of this work *must* be performed within the body of the `MyModel` routine you will write\n",
    "\n",
    "We will grade you by comparing the predictions array you create to the answers known to us."
   ]
  },
  {
   "cell_type": "code",
   "execution_count": 36,
   "metadata": {},
   "outputs": [],
   "source": [
    "from sklearn.decomposition import PCA\n",
    "from sklearn import svm\n",
    "from sklearn.metrics import accuracy_score\n",
    "from sklearn.metrics import recall_score\n",
    "from sklearn.metrics import precision_score\n",
    "from sklearn.preprocessing import StandardScaler\n",
    "from sklearn.model_selection import cross_val_predict, train_test_split\n",
    "from sklearn.svm import SVC\n",
    "from sklearn.neural_network import MLPClassifier\n",
    "from sklearn import tree\n",
    "import math"
   ]
  },
  {
   "cell_type": "code",
   "execution_count": 37,
   "metadata": {},
   "outputs": [
    {
     "data": {
      "text/html": [
       "<div>\n",
       "<style scoped>\n",
       "    .dataframe tbody tr th:only-of-type {\n",
       "        vertical-align: middle;\n",
       "    }\n",
       "\n",
       "    .dataframe tbody tr th {\n",
       "        vertical-align: top;\n",
       "    }\n",
       "\n",
       "    .dataframe thead th {\n",
       "        text-align: right;\n",
       "    }\n",
       "</style>\n",
       "<table border=\"1\" class=\"dataframe\">\n",
       "  <thead>\n",
       "    <tr style=\"text-align: right;\">\n",
       "      <th></th>\n",
       "      <th>X1</th>\n",
       "      <th>X2</th>\n",
       "      <th>X3</th>\n",
       "      <th>X4</th>\n",
       "      <th>X5</th>\n",
       "      <th>X6</th>\n",
       "      <th>X7</th>\n",
       "      <th>X8</th>\n",
       "      <th>X9</th>\n",
       "      <th>X10</th>\n",
       "      <th>...</th>\n",
       "      <th>X57</th>\n",
       "      <th>X58</th>\n",
       "      <th>X59</th>\n",
       "      <th>X60</th>\n",
       "      <th>X61</th>\n",
       "      <th>X62</th>\n",
       "      <th>X63</th>\n",
       "      <th>X64</th>\n",
       "      <th>Bankrupt</th>\n",
       "      <th>Id</th>\n",
       "    </tr>\n",
       "  </thead>\n",
       "  <tbody>\n",
       "    <tr>\n",
       "      <th>count</th>\n",
       "      <td>4818.000000</td>\n",
       "      <td>4818.000000</td>\n",
       "      <td>4818.000000</td>\n",
       "      <td>4818.000000</td>\n",
       "      <td>4.818000e+03</td>\n",
       "      <td>4818.000000</td>\n",
       "      <td>4818.000000</td>\n",
       "      <td>4818.000000</td>\n",
       "      <td>4818.000000</td>\n",
       "      <td>4818.000000</td>\n",
       "      <td>...</td>\n",
       "      <td>4818.000000</td>\n",
       "      <td>4818.000000</td>\n",
       "      <td>4818.000000</td>\n",
       "      <td>4.818000e+03</td>\n",
       "      <td>4818.000000</td>\n",
       "      <td>4818.000000</td>\n",
       "      <td>4818.000000</td>\n",
       "      <td>4818.000000</td>\n",
       "      <td>4818.000000</td>\n",
       "      <td>4818.000000</td>\n",
       "    </tr>\n",
       "    <tr>\n",
       "      <th>mean</th>\n",
       "      <td>-0.055232</td>\n",
       "      <td>0.533272</td>\n",
       "      <td>0.188992</td>\n",
       "      <td>4.978602</td>\n",
       "      <td>1.956441e+01</td>\n",
       "      <td>-0.070060</td>\n",
       "      <td>-0.042516</td>\n",
       "      <td>5.739985</td>\n",
       "      <td>1.579277</td>\n",
       "      <td>0.503606</td>\n",
       "      <td>...</td>\n",
       "      <td>0.022793</td>\n",
       "      <td>0.959585</td>\n",
       "      <td>0.273025</td>\n",
       "      <td>1.108795e+03</td>\n",
       "      <td>11.021303</td>\n",
       "      <td>177.494445</td>\n",
       "      <td>9.287631</td>\n",
       "      <td>38.557533</td>\n",
       "      <td>0.063927</td>\n",
       "      <td>3499.858032</td>\n",
       "    </tr>\n",
       "    <tr>\n",
       "      <th>std</th>\n",
       "      <td>6.705958</td>\n",
       "      <td>1.202660</td>\n",
       "      <td>1.282164</td>\n",
       "      <td>100.117705</td>\n",
       "      <td>2.382015e+04</td>\n",
       "      <td>7.776908</td>\n",
       "      <td>6.706577</td>\n",
       "      <td>109.348749</td>\n",
       "      <td>1.342723</td>\n",
       "      <td>4.043196</td>\n",
       "      <td>...</td>\n",
       "      <td>7.247517</td>\n",
       "      <td>0.932427</td>\n",
       "      <td>6.337285</td>\n",
       "      <td>6.942383e+04</td>\n",
       "      <td>43.766529</td>\n",
       "      <td>2279.713700</td>\n",
       "      <td>113.049493</td>\n",
       "      <td>583.617986</td>\n",
       "      <td>0.244648</td>\n",
       "      <td>1392.049260</td>\n",
       "    </tr>\n",
       "    <tr>\n",
       "      <th>min</th>\n",
       "      <td>-463.890000</td>\n",
       "      <td>0.000000</td>\n",
       "      <td>-72.067000</td>\n",
       "      <td>0.000000</td>\n",
       "      <td>-1.076400e+06</td>\n",
       "      <td>-463.890000</td>\n",
       "      <td>-463.890000</td>\n",
       "      <td>-3.735100</td>\n",
       "      <td>0.000191</td>\n",
       "      <td>-71.444000</td>\n",
       "      <td>...</td>\n",
       "      <td>-468.670000</td>\n",
       "      <td>-0.085920</td>\n",
       "      <td>-184.980000</td>\n",
       "      <td>-1.244000e+01</td>\n",
       "      <td>-0.092493</td>\n",
       "      <td>0.000000</td>\n",
       "      <td>0.000000</td>\n",
       "      <td>-3.726500</td>\n",
       "      <td>0.000000</td>\n",
       "      <td>1071.000000</td>\n",
       "    </tr>\n",
       "    <tr>\n",
       "      <th>25%</th>\n",
       "      <td>0.004042</td>\n",
       "      <td>0.254765</td>\n",
       "      <td>0.044978</td>\n",
       "      <td>1.101525</td>\n",
       "      <td>-4.290075e+01</td>\n",
       "      <td>0.000000</td>\n",
       "      <td>0.005977</td>\n",
       "      <td>0.482350</td>\n",
       "      <td>1.015600</td>\n",
       "      <td>0.319095</td>\n",
       "      <td>...</td>\n",
       "      <td>0.015582</td>\n",
       "      <td>0.876940</td>\n",
       "      <td>0.000000</td>\n",
       "      <td>5.456550e+00</td>\n",
       "      <td>4.236425</td>\n",
       "      <td>45.065750</td>\n",
       "      <td>3.077000</td>\n",
       "      <td>2.137425</td>\n",
       "      <td>0.000000</td>\n",
       "      <td>2296.250000</td>\n",
       "    </tr>\n",
       "    <tr>\n",
       "      <th>50%</th>\n",
       "      <td>0.046428</td>\n",
       "      <td>0.451610</td>\n",
       "      <td>0.218155</td>\n",
       "      <td>1.645450</td>\n",
       "      <td>4.932050e-01</td>\n",
       "      <td>0.000000</td>\n",
       "      <td>0.056653</td>\n",
       "      <td>1.154350</td>\n",
       "      <td>1.140500</td>\n",
       "      <td>0.522195</td>\n",
       "      <td>...</td>\n",
       "      <td>0.108860</td>\n",
       "      <td>0.950825</td>\n",
       "      <td>0.006365</td>\n",
       "      <td>9.449650e+00</td>\n",
       "      <td>6.181450</td>\n",
       "      <td>73.879500</td>\n",
       "      <td>4.939500</td>\n",
       "      <td>4.224000</td>\n",
       "      <td>0.000000</td>\n",
       "      <td>3500.500000</td>\n",
       "    </tr>\n",
       "    <tr>\n",
       "      <th>75%</th>\n",
       "      <td>0.116725</td>\n",
       "      <td>0.662140</td>\n",
       "      <td>0.420033</td>\n",
       "      <td>2.943000</td>\n",
       "      <td>4.978025e+01</td>\n",
       "      <td>0.110387</td>\n",
       "      <td>0.135972</td>\n",
       "      <td>2.814600</td>\n",
       "      <td>1.814050</td>\n",
       "      <td>0.721670</td>\n",
       "      <td>...</td>\n",
       "      <td>0.240200</td>\n",
       "      <td>0.990358</td>\n",
       "      <td>0.208242</td>\n",
       "      <td>1.968150e+01</td>\n",
       "      <td>9.342925</td>\n",
       "      <td>118.597500</td>\n",
       "      <td>8.097875</td>\n",
       "      <td>9.834275</td>\n",
       "      <td>0.000000</td>\n",
       "      <td>4704.750000</td>\n",
       "    </tr>\n",
       "    <tr>\n",
       "      <th>max</th>\n",
       "      <td>2.352300</td>\n",
       "      <td>72.416000</td>\n",
       "      <td>28.336000</td>\n",
       "      <td>6845.800000</td>\n",
       "      <td>1.250100e+06</td>\n",
       "      <td>203.150000</td>\n",
       "      <td>2.352300</td>\n",
       "      <td>6868.500000</td>\n",
       "      <td>37.807000</td>\n",
       "      <td>266.860000</td>\n",
       "      <td>...</td>\n",
       "      <td>87.981000</td>\n",
       "      <td>47.788000</td>\n",
       "      <td>308.150000</td>\n",
       "      <td>4.818700e+06</td>\n",
       "      <td>1308.500000</td>\n",
       "      <td>127450.000000</td>\n",
       "      <td>7641.300000</td>\n",
       "      <td>28999.000000</td>\n",
       "      <td>1.000000</td>\n",
       "      <td>5909.000000</td>\n",
       "    </tr>\n",
       "  </tbody>\n",
       "</table>\n",
       "<p>8 rows × 66 columns</p>\n",
       "</div>"
      ],
      "text/plain": [
       "                X1           X2           X3           X4            X5  \\\n",
       "count  4818.000000  4818.000000  4818.000000  4818.000000  4.818000e+03   \n",
       "mean     -0.055232     0.533272     0.188992     4.978602  1.956441e+01   \n",
       "std       6.705958     1.202660     1.282164   100.117705  2.382015e+04   \n",
       "min    -463.890000     0.000000   -72.067000     0.000000 -1.076400e+06   \n",
       "25%       0.004042     0.254765     0.044978     1.101525 -4.290075e+01   \n",
       "50%       0.046428     0.451610     0.218155     1.645450  4.932050e-01   \n",
       "75%       0.116725     0.662140     0.420033     2.943000  4.978025e+01   \n",
       "max       2.352300    72.416000    28.336000  6845.800000  1.250100e+06   \n",
       "\n",
       "                X6           X7           X8           X9          X10  ...  \\\n",
       "count  4818.000000  4818.000000  4818.000000  4818.000000  4818.000000  ...   \n",
       "mean     -0.070060    -0.042516     5.739985     1.579277     0.503606  ...   \n",
       "std       7.776908     6.706577   109.348749     1.342723     4.043196  ...   \n",
       "min    -463.890000  -463.890000    -3.735100     0.000191   -71.444000  ...   \n",
       "25%       0.000000     0.005977     0.482350     1.015600     0.319095  ...   \n",
       "50%       0.000000     0.056653     1.154350     1.140500     0.522195  ...   \n",
       "75%       0.110387     0.135972     2.814600     1.814050     0.721670  ...   \n",
       "max     203.150000     2.352300  6868.500000    37.807000   266.860000  ...   \n",
       "\n",
       "               X57          X58          X59           X60          X61  \\\n",
       "count  4818.000000  4818.000000  4818.000000  4.818000e+03  4818.000000   \n",
       "mean      0.022793     0.959585     0.273025  1.108795e+03    11.021303   \n",
       "std       7.247517     0.932427     6.337285  6.942383e+04    43.766529   \n",
       "min    -468.670000    -0.085920  -184.980000 -1.244000e+01    -0.092493   \n",
       "25%       0.015582     0.876940     0.000000  5.456550e+00     4.236425   \n",
       "50%       0.108860     0.950825     0.006365  9.449650e+00     6.181450   \n",
       "75%       0.240200     0.990358     0.208242  1.968150e+01     9.342925   \n",
       "max      87.981000    47.788000   308.150000  4.818700e+06  1308.500000   \n",
       "\n",
       "                 X62          X63           X64     Bankrupt           Id  \n",
       "count    4818.000000  4818.000000   4818.000000  4818.000000  4818.000000  \n",
       "mean      177.494445     9.287631     38.557533     0.063927  3499.858032  \n",
       "std      2279.713700   113.049493    583.617986     0.244648  1392.049260  \n",
       "min         0.000000     0.000000     -3.726500     0.000000  1071.000000  \n",
       "25%        45.065750     3.077000      2.137425     0.000000  2296.250000  \n",
       "50%        73.879500     4.939500      4.224000     0.000000  3500.500000  \n",
       "75%       118.597500     8.097875      9.834275     0.000000  4704.750000  \n",
       "max    127450.000000  7641.300000  28999.000000     1.000000  5909.000000  \n",
       "\n",
       "[8 rows x 66 columns]"
      ]
     },
     "execution_count": 37,
     "metadata": {},
     "output_type": "execute_result"
    }
   ],
   "source": [
    "# Convert all data values to numeric, coercing errors to NaN\n",
    "data = data.applymap(pd.to_numeric, errors='coerce')\n",
    "holdout_data = holdout_data.applymap(pd.to_numeric, errors='coerce')\n",
    "\n",
    "# Replace '?' with NaN to handle missing values\n",
    "data.replace('?', np.nan, inplace=True)\n",
    "data.fillna(data.mean(), inplace=True)\n",
    "\n",
    "# Fill missing values with column-wise mean\n",
    "holdout_data.replace('?', np.nan, inplace=True)\n",
    "holdout_data.fillna(holdout_data.mean(), inplace=True)\n",
    "\n",
    "# Convert DataFrame to NumPy array\n",
    "df = data.values\n",
    "out = holdout_data.values\n",
    "\n",
    "# Display summary statistics of the dataset\n",
    "data.describe()\n",
    "\n",
    "# Extract features (all columns except last two) and normalize them\n",
    "X=df[:, :-2]\n",
    "X = StandardScaler().fit_transform(X) # Standardize features for ML models\n",
    "\n",
    "# Extract target variable (second last column)\n",
    "y=df[:, -2]\n",
    "# Alternative feature and target extraction using Pandas indexing\n",
    "X_data=data.iloc[:,:-2]\n",
    "y_data=data.iloc[:, -2]"
   ]
  },
  {
   "cell_type": "markdown",
   "metadata": {},
   "source": [
    "Handling Missing Data:\n",
    " - Linear Regression Imputation: for data which shows linear trends\n",
    " \n",
    "        Train a linear regression model on the available data \n",
    "        Predict missing values using the trained model \n",
    "        Replace missing values with predicted values\n",
    "\n",
    " - Interpolation (when missing is between values)\n",
    "    \n",
    "        For each missing value: \n",
    "        Find the nearest known data points (x1, y1) and (x2, y2) \n",
    "        Compute slope: m = (y2 - y1) / (x2 - x1) \n",
    "        Estimate missing value: y = y1 + m * (x - x1) \n",
    "        Replace missing value with estimated y\n",
    "\n",
    " - Extrapolation (time-series forecasting)\n",
    " \n",
    "        Select the two most recent known data points (x1, y1) and (x2, y2)\n",
    "        Compute slope: m = (y2 - y1) / (x2 - x1)\n",
    "        For each missing value:\n",
    "        Predict missing value: y = y2 + m * (x - x2)\n",
    "        Replace missing value with estimated y\n",
    "\n",
    "Can be used in ECM to find missing values"
   ]
  },
  {
   "cell_type": "markdown",
   "metadata": {},
   "source": [
    "Visualize data, and find that the data is imbalanced, and the features have high correlation."
   ]
  },
  {
   "cell_type": "code",
   "execution_count": 38,
   "metadata": {},
   "outputs": [
    {
     "data": {
      "text/plain": [
       "<AxesSubplot:>"
      ]
     },
     "execution_count": 38,
     "metadata": {},
     "output_type": "execute_result"
    },
    {
     "data": {
      "text/plain": [
       "Text(0.5, 1.0, 'Not Bankrupt(0) vs Bankrupt(1)')"
      ]
     },
     "execution_count": 38,
     "metadata": {},
     "output_type": "execute_result"
    },
    {
     "data": {
      "image/png": "[encoded data removed]",
      "text/plain": [
       "<Figure size 432x288 with 1 Axes>"
      ]
     },
     "metadata": {
      "needs_background": "light"
     },
     "output_type": "display_data"
    }
   ],
   "source": [
    "import seaborn as sns\n",
    "y_data.value_counts().plot(kind='bar')\n",
    "sns.set_style('whitegrid')\n",
    "sns.set_palette('bwr')\n",
    "plt.title('Not Bankrupt(0) vs Bankrupt(1)')\n",
    "plt.show()"
   ]
  },
  {
   "cell_type": "code",
   "execution_count": 39,
   "metadata": {},
   "outputs": [
    {
     "data": {
      "text/plain": [
       "(array([[0., 0., 0., ..., 0., 0., 0.],\n",
       "        [0., 0., 0., ..., 0., 0., 0.],\n",
       "        [0., 0., 0., ..., 0., 0., 0.],\n",
       "        ...,\n",
       "        [0., 0., 0., ..., 0., 0., 0.],\n",
       "        [0., 0., 0., ..., 0., 0., 0.],\n",
       "        [0., 0., 0., ..., 0., 0., 0.]]),\n",
       " array([-1118500.,  -821640.,  -524780.,  -227920.,    68940.,   365800.,\n",
       "          662660.,   959520.,  1256380.,  1553240.,  1850100.,  2146960.,\n",
       "         2443820.,  2740680.,  3037540.,  3334400.,  3631260.,  3928120.,\n",
       "         4224980.,  4521840.,  4818700.]),\n",
       " <a list of 66 BarContainer objects>)"
      ]
     },
     "execution_count": 39,
     "metadata": {},
     "output_type": "execute_result"
    },
    {
     "data": {
      "text/plain": [
       "Text(0.5, 0, 'bankrupt')"
      ]
     },
     "execution_count": 39,
     "metadata": {},
     "output_type": "execute_result"
    },
    {
     "data": {
      "text/plain": [
       "Text(0.5, 1.0, 'Histogram of Data')"
      ]
     },
     "execution_count": 39,
     "metadata": {},
     "output_type": "execute_result"
    },
    {
     "data": {
      "image/png": "[encoded data removed]",
      "text/plain": [
       "<Figure size 432x288 with 1 Axes>"
      ]
     },
     "metadata": {},
     "output_type": "display_data"
    }
   ],
   "source": [
    "plt.hist(data, bins=20, alpha=0.5)\n",
    "plt.xlabel('bankrupt')\n",
    "plt.title('Histogram of Data')\n",
    "plt.show()"
   ]
  },
  {
   "cell_type": "markdown",
   "metadata": {},
   "source": [
    "Heatmap"
   ]
  },
  {
   "cell_type": "code",
   "execution_count": 40,
   "metadata": {},
   "outputs": [
    {
     "data": {
      "text/plain": [
       "<AxesSubplot:>"
      ]
     },
     "execution_count": 40,
     "metadata": {},
     "output_type": "execute_result"
    },
    {
     "data": {
      "image/png": "[encoded data removed]",
      "text/plain": [
       "<Figure size 432x288 with 2 Axes>"
      ]
     },
     "metadata": {},
     "output_type": "display_data"
    }
   ],
   "source": [
    "corr_matrix = X_data.corr()\n",
    "sns.heatmap(corr_matrix, cmap='coolwarm')\n",
    "plt.show()"
   ]
  },
  {
   "cell_type": "markdown",
   "metadata": {},
   "source": [
    "Here I use randomoversampler to do random oversampling, and use PCA to lower the dimenision since we have dataset with features having high correlation with each other."
   ]
  },
  {
   "cell_type": "code",
   "execution_count": 41,
   "metadata": {},
   "outputs": [],
   "source": [
    "from imblearn.over_sampling import RandomOverSampler\n",
    "# Random oversampling\n",
    "# ros = RandomOverSampler(random_state=42)\n",
    "# X_ros, y_ros = ros.fit_resample(X, y)"
   ]
  },
  {
   "cell_type": "markdown",
   "metadata": {},
   "source": [
    "# SMOTE"
   ]
  },
  {
   "cell_type": "markdown",
   "metadata": {},
   "source": [
    "I also try SMOTE to balance the data to avoid overfitting. After applying SMOTE we can find the recall and precision seems to be balanced."
   ]
  },
  {
   "cell_type": "code",
   "execution_count": 42,
   "metadata": {},
   "outputs": [],
   "source": [
    "from imblearn.over_sampling import SMOTE\n",
    "\n",
    "smote = SMOTE(random_state=42)\n",
    "X_ros, y_ros = smote.fit_resample(X, y)\n",
    "# X_ros, y_ros = X, y"
   ]
  },
  {
   "cell_type": "markdown",
   "metadata": {},
   "source": [
    "# PCA"
   ]
  },
  {
   "cell_type": "code",
   "execution_count": 43,
   "metadata": {},
   "outputs": [
    {
     "data": {
      "text/plain": [
       "array([[-0.34702704, -0.5294126 , -0.12070425],\n",
       "       [-0.21829935, -0.92479567, -0.04201198],\n",
       "       [-0.33985283, -0.5397412 , -0.10783738],\n",
       "       ...,\n",
       "       [-0.33001267, -0.63287133, -0.10503977],\n",
       "       [-0.64097052,  5.50196878,  0.01719111],\n",
       "       [-0.4842435 ,  2.82453163, -0.05874605]])"
      ]
     },
     "execution_count": 43,
     "metadata": {},
     "output_type": "execute_result"
    },
    {
     "data": {
      "text/plain": [
       "array([[-0.34702704, -0.5294126 , -0.12070438, -0.21890147],\n",
       "       [-0.21829935, -0.92479567, -0.04201217, -0.08630401],\n",
       "       [-0.33985283, -0.5397412 , -0.10783738, -0.16917528],\n",
       "       ...,\n",
       "       [-0.33001267, -0.63287133, -0.10503985, -0.1439246 ],\n",
       "       [-0.64097052,  5.50196878,  0.01719123, -0.33927063],\n",
       "       [-0.4842435 ,  2.82453162, -0.05874581,  0.33723778]])"
      ]
     },
     "execution_count": 43,
     "metadata": {},
     "output_type": "execute_result"
    },
    {
     "data": {
      "text/plain": [
       "array([[-0.34702704, -0.5294126 , -0.12070438, -0.21890142, -0.09078046],\n",
       "       [-0.21829935, -0.92479567, -0.04201213, -0.08630391, -0.1116826 ],\n",
       "       [-0.33985283, -0.5397412 , -0.1078374 , -0.16917524, -0.09423035],\n",
       "       ...,\n",
       "       [-0.33001267, -0.63287133, -0.10503985, -0.14392457, -0.09838916],\n",
       "       [-0.64097052,  5.50196878,  0.01719121, -0.3392706 , -0.11634401],\n",
       "       [-0.4842435 ,  2.82453162, -0.05874585,  0.3372377 , -0.10826811]])"
      ]
     },
     "execution_count": 43,
     "metadata": {},
     "output_type": "execute_result"
    },
    {
     "data": {
      "text/plain": [
       "array([[-0.34702704, -0.5294126 , -0.12070436, -0.21890151, -0.09078079,\n",
       "        -0.16843691],\n",
       "       [-0.21829935, -0.92479567, -0.04201213, -0.08630403, -0.11168368,\n",
       "        -0.02324083],\n",
       "       [-0.33985283, -0.5397412 , -0.10783739, -0.16917528, -0.09423056,\n",
       "         0.02857552],\n",
       "       ...,\n",
       "       [-0.33001267, -0.63287133, -0.10503984, -0.14392462, -0.09838908,\n",
       "        -0.0407661 ],\n",
       "       [-0.64097052,  5.50196878,  0.01719122, -0.3392706 , -0.11634366,\n",
       "         0.22480096],\n",
       "       [-0.4842435 ,  2.82453162, -0.05874584,  0.33723786, -0.1082671 ,\n",
       "         0.31957855]])"
      ]
     },
     "execution_count": 43,
     "metadata": {},
     "output_type": "execute_result"
    },
    {
     "data": {
      "text/plain": [
       "array([[-0.34702704, -0.52941152, -0.12070582, ..., -0.09069363,\n",
       "        -0.16838103, -0.05180104],\n",
       "       [-0.21829935, -0.92479457, -0.04201248, ..., -0.11156463,\n",
       "        -0.02321977, -0.16223063],\n",
       "       [-0.33985283, -0.53974069, -0.10783863, ..., -0.09420623,\n",
       "         0.02857533, -0.12456415],\n",
       "       ...,\n",
       "       [-0.33001267, -0.63287063, -0.10503958, ..., -0.09831334,\n",
       "        -0.04070869, -0.11989409],\n",
       "       [-0.64097052,  5.50196879,  0.01718846, ..., -0.11633413,\n",
       "         0.22479334,  0.01421847],\n",
       "       [-0.4842435 ,  2.82452993, -0.05874647, ..., -0.10843698,\n",
       "         0.31955811, -0.22328372]])"
      ]
     },
     "execution_count": 43,
     "metadata": {},
     "output_type": "execute_result"
    },
    {
     "data": {
      "text/plain": [
       "array([[-0.34702704, -0.52941217, -0.12070547, ..., -0.16840826,\n",
       "        -0.0516725 , -0.98861729],\n",
       "       [-0.21829935, -0.92479468, -0.04202241, ..., -0.02320347,\n",
       "        -0.16190954, -1.05565715],\n",
       "       [-0.33985283, -0.53974106, -0.10783569, ...,  0.02856602,\n",
       "        -0.12449943, -0.83542915],\n",
       "       ...,\n",
       "       [-0.33001267, -0.63287099, -0.10504298, ..., -0.04072086,\n",
       "        -0.11979495, -0.91344152],\n",
       "       [-0.64097052,  5.50196898,  0.01718749, ...,  0.22480831,\n",
       "         0.01447529,  1.42598842],\n",
       "       [-0.4842435 ,  2.82453044, -0.0587353 , ...,  0.31948628,\n",
       "        -0.22358277,  0.66963607]])"
      ]
     },
     "execution_count": 43,
     "metadata": {},
     "output_type": "execute_result"
    },
    {
     "data": {
      "text/plain": [
       "array([[-0.34702704, -0.52941184, -0.12071414, ..., -0.05184039,\n",
       "        -0.9879401 , -0.11695997],\n",
       "       [-0.21829935, -0.92479546, -0.04201795, ..., -0.16241924,\n",
       "        -1.05590039,  0.16336827],\n",
       "       [-0.33985283, -0.5397409 , -0.1078411 , ..., -0.12461724,\n",
       "        -0.83478354,  0.02496574],\n",
       "       ...,\n",
       "       [-0.33001267, -0.632871  , -0.1050426 , ..., -0.11988511,\n",
       "        -0.91317791,  0.07383392],\n",
       "       [-0.64097052,  5.5019687 ,  0.01719255, ...,  0.01438648,\n",
       "         1.42594908,  0.10426376],\n",
       "       [-0.4842435 ,  2.82453081, -0.05873365, ..., -0.22305071,\n",
       "         0.66980317,  0.9844791 ]])"
      ]
     },
     "execution_count": 43,
     "metadata": {},
     "output_type": "execute_result"
    },
    {
     "data": {
      "text/plain": [
       "array([[-0.34702704, -0.52941152, -0.12068638, ..., -0.98968519,\n",
       "        -0.11455539,  0.07205302],\n",
       "       [-0.21829935, -0.92479519, -0.04199731, ..., -1.05776778,\n",
       "         0.16321592,  0.13596791],\n",
       "       [-0.33985283, -0.53974073, -0.10783172, ..., -0.83520468,\n",
       "         0.02708917, -0.06715291],\n",
       "       ...,\n",
       "       [-0.33001267, -0.63287095, -0.1050271 , ..., -0.91481255,\n",
       "         0.0735555 ,  0.04465396],\n",
       "       [-0.64097052,  5.50196838,  0.01719186, ...,  1.42576494,\n",
       "         0.10285736,  0.00725891],\n",
       "       [-0.48424351,  2.82453024, -0.05876872, ...,  0.67204428,\n",
       "         0.98176761,  0.06801808]])"
      ]
     },
     "execution_count": 43,
     "metadata": {},
     "output_type": "execute_result"
    },
    {
     "data": {
      "text/plain": [
       "array([[-3.47027039e-01, -5.29412701e-01, -1.20707685e-01, ...,\n",
       "        -1.13990533e-01,  6.32047969e-02, -2.35985047e-02],\n",
       "       [-2.18299347e-01, -9.24795711e-01, -4.20144524e-02, ...,\n",
       "         1.65110644e-01,  1.26526939e-01, -2.70426003e-02],\n",
       "       [-3.39852832e-01, -5.39741638e-01, -1.07839214e-01, ...,\n",
       "         2.70287823e-02, -7.23088278e-02, -2.00324118e-02],\n",
       "       ...,\n",
       "       [-3.30012669e-01, -6.32871282e-01, -1.05041416e-01, ...,\n",
       "         7.45702448e-02,  4.27638660e-02, -2.23761959e-02],\n",
       "       [-6.40970518e-01,  5.50196900e+00,  1.71922687e-02, ...,\n",
       "         1.03193317e-01,  1.05165873e-02, -2.11614624e-03],\n",
       "       [-4.84243502e-01,  2.82453110e+00, -5.87427692e-02, ...,\n",
       "         9.81869242e-01,  7.76882510e-02,  1.01022536e-02]])"
      ]
     },
     "execution_count": 43,
     "metadata": {},
     "output_type": "execute_result"
    },
    {
     "data": {
      "text/plain": [
       "array([[-3.47027040e-01, -5.29413392e-01, -1.20704488e-01, ...,\n",
       "         6.78604835e-02, -1.89120927e-02, -1.53913347e-01],\n",
       "       [-2.18299348e-01, -9.24795808e-01, -4.20115200e-02, ...,\n",
       "         1.33668598e-01, -1.81120630e-02, -1.90475648e-01],\n",
       "       [-3.39852832e-01, -5.39741591e-01, -1.07836856e-01, ...,\n",
       "        -7.08908195e-02, -1.83790230e-02, -9.39864370e-02],\n",
       "       ...,\n",
       "       [-3.30012669e-01, -6.32871594e-01, -1.05039905e-01, ...,\n",
       "         4.63963789e-02, -1.81434352e-02, -1.18672025e-01],\n",
       "       [-6.40970518e-01,  5.50196906e+00,  1.71913240e-02, ...,\n",
       "         1.27643536e-02, -8.29755640e-04, -5.35791812e-02],\n",
       "       [-4.84243500e-01,  2.82453244e+00, -5.87453308e-02, ...,\n",
       "         7.04635166e-02,  3.50468950e-03,  4.11577514e-02]])"
      ]
     },
     "execution_count": 43,
     "metadata": {},
     "output_type": "execute_result"
    },
    {
     "data": {
      "text/plain": [
       "array([[-3.47027039e-01, -5.29412313e-01, -1.20705965e-01, ...,\n",
       "        -2.26600349e-02, -1.55762744e-01,  6.15865160e-02],\n",
       "       [-2.18299349e-01, -9.24796107e-01, -4.20080432e-02, ...,\n",
       "        -1.68511977e-02, -1.84110368e-01,  5.13905505e-02],\n",
       "       [-3.39852832e-01, -5.39741136e-01, -1.07837062e-01, ...,\n",
       "        -2.17298360e-02, -9.64268453e-02, -7.04362431e-02],\n",
       "       ...,\n",
       "       [-3.30012669e-01, -6.32871211e-01, -1.05040949e-01, ...,\n",
       "        -1.91095585e-02, -1.19288131e-01,  2.91937879e-02],\n",
       "       [-6.40970518e-01,  5.50196875e+00,  1.71908838e-02, ...,\n",
       "        -1.10654644e-03, -5.49928242e-02, -2.17339643e-01],\n",
       "       [-4.84243502e-01,  2.82453124e+00, -5.87430880e-02, ...,\n",
       "         6.43041491e-03,  3.87308698e-02, -2.48000286e-01]])"
      ]
     },
     "execution_count": 43,
     "metadata": {},
     "output_type": "execute_result"
    },
    {
     "data": {
      "text/plain": [
       "array([[-0.34702704, -0.52941255, -0.12070833, ..., -0.15728071,\n",
       "         0.02883744, -0.21979349],\n",
       "       [-0.21829935, -0.92479567, -0.04201276, ..., -0.19052882,\n",
       "         0.07068802, -0.28208962],\n",
       "       [-0.33985283, -0.53974118, -0.10783909, ..., -0.09580724,\n",
       "        -0.08245464, -0.10616417],\n",
       "       ...,\n",
       "       [-0.33001267, -0.6328713 , -0.10504114, ..., -0.11979637,\n",
       "         0.01238959, -0.16240776],\n",
       "       [-0.64097052,  5.50196881,  0.01719371, ..., -0.05049806,\n",
       "        -0.20978501,  0.02328813],\n",
       "       [-0.4842435 ,  2.82453157, -0.05874217, ...,  0.04175214,\n",
       "        -0.21597802,  0.26211789]])"
      ]
     },
     "execution_count": 43,
     "metadata": {},
     "output_type": "execute_result"
    },
    {
     "data": {
      "text/plain": [
       "array([[-0.34702704, -0.52941255, -0.12070324, ...,  0.03529072,\n",
       "        -0.22349299, -0.08710926],\n",
       "       [-0.21829935, -0.92479565, -0.04201173, ...,  0.06950169,\n",
       "        -0.28656526, -0.12300786],\n",
       "       [-0.33985283, -0.53974115, -0.10783619, ..., -0.08172645,\n",
       "        -0.10995362, -0.04098972],\n",
       "       ...,\n",
       "       [-0.33001267, -0.63287133, -0.10503985, ...,  0.01504303,\n",
       "        -0.16378756, -0.07749723],\n",
       "       [-0.64097052,  5.5019687 ,  0.01718955, ..., -0.21222377,\n",
       "         0.02560274, -0.09184066],\n",
       "       [-0.4842435 ,  2.8245316 , -0.05874643, ..., -0.22130536,\n",
       "         0.2659719 ,  0.03389071]])"
      ]
     },
     "execution_count": 43,
     "metadata": {},
     "output_type": "execute_result"
    },
    {
     "data": {
      "text/plain": [
       "array([[-0.34702704, -0.52941261, -0.12070434, ..., -0.21766363,\n",
       "        -0.09087779,  0.32773153],\n",
       "       [-0.21829935, -0.92479567, -0.04201213, ..., -0.28182055,\n",
       "        -0.12567289,  0.55029817],\n",
       "       [-0.33985283, -0.5397412 , -0.10783737, ..., -0.10537614,\n",
       "        -0.04305441,  0.13374561],\n",
       "       ...,\n",
       "       [-0.33001267, -0.63287133, -0.10503983, ..., -0.16165918,\n",
       "        -0.0790481 ,  0.21015302],\n",
       "       [-0.64097052,  5.50196882,  0.01719127, ...,  0.02190157,\n",
       "        -0.08918959,  0.05556709],\n",
       "       [-0.4842435 ,  2.82453161, -0.05874583, ...,  0.26128831,\n",
       "         0.03646914, -0.56554894]])"
      ]
     },
     "execution_count": 43,
     "metadata": {},
     "output_type": "execute_result"
    },
    {
     "data": {
      "text/plain": [
       "array([[-3.47027039e-01, -5.29412605e-01, -1.20704382e-01, ...,\n",
       "        -9.02900665e-02,  3.27314010e-01, -1.46531905e-03],\n",
       "       [-2.18299348e-01, -9.24795664e-01, -4.20120824e-02, ...,\n",
       "        -1.26071288e-01,  5.50024757e-01,  1.02497558e-01],\n",
       "       [-3.39852831e-01, -5.39741199e-01, -1.07837373e-01, ...,\n",
       "        -4.31362529e-02,  1.33478425e-01,  1.47635884e-02],\n",
       "       ...,\n",
       "       [-3.30012669e-01, -6.32871330e-01, -1.05039843e-01, ...,\n",
       "        -7.90201695e-02,  2.10047880e-01, -2.01088079e-02],\n",
       "       [-6.40970518e-01,  5.50196879e+00,  1.71912441e-02, ...,\n",
       "        -9.07472944e-02,  5.66257545e-02, -9.17425945e-03],\n",
       "       [-4.84243501e-01,  2.82453162e+00, -5.87458746e-02, ...,\n",
       "         3.72967248e-02, -5.65621767e-01, -4.42749936e-02]])"
      ]
     },
     "execution_count": 43,
     "metadata": {},
     "output_type": "execute_result"
    },
    {
     "data": {
      "text/plain": [
       "array([[-3.47027039e-01, -5.29412602e-01, -1.20704356e-01, ...,\n",
       "         3.27072741e-01, -9.45645558e-04,  1.47862530e-01],\n",
       "       [-2.18299348e-01, -9.24795668e-01, -4.20121233e-02, ...,\n",
       "         5.50325023e-01,  1.01547016e-01, -2.11151385e-02],\n",
       "       [-3.39852831e-01, -5.39741202e-01, -1.07837390e-01, ...,\n",
       "         1.33679480e-01,  1.44937191e-02,  2.44815703e-02],\n",
       "       ...,\n",
       "       [-3.30012669e-01, -6.32871329e-01, -1.05039834e-01, ...,\n",
       "         2.10049179e-01, -1.98178250e-02,  1.13741894e-01],\n",
       "       [-6.40970518e-01,  5.50196878e+00,  1.71912077e-02, ...,\n",
       "         5.67686679e-02, -9.55230881e-03, -2.91370871e-02],\n",
       "       [-4.84243501e-01,  2.82453162e+00, -5.87458277e-02, ...,\n",
       "        -5.65864102e-01, -4.30899376e-02, -3.09323521e-01]])"
      ]
     },
     "execution_count": 43,
     "metadata": {},
     "output_type": "execute_result"
    },
    {
     "data": {
      "text/plain": [
       "array([[-3.47027039e-01, -5.29412602e-01, -1.20704355e-01, ...,\n",
       "        -9.68672885e-04,  1.47881454e-01, -6.79635376e-02],\n",
       "       [-2.18299348e-01, -9.24795669e-01, -4.20121177e-02, ...,\n",
       "         1.01630902e-01, -2.13780437e-02, -9.09855201e-02],\n",
       "       [-3.39852831e-01, -5.39741201e-01, -1.07837392e-01, ...,\n",
       "         1.43947234e-02,  2.44433577e-02, -5.91350916e-03],\n",
       "       ...,\n",
       "       [-3.30012669e-01, -6.32871328e-01, -1.05039837e-01, ...,\n",
       "        -1.99385414e-02,  1.13796435e-01, -7.01776617e-02],\n",
       "       [-6.40970518e-01,  5.50196878e+00,  1.71912126e-02, ...,\n",
       "        -9.61278766e-03, -2.93348364e-02, -1.95948687e-02],\n",
       "       [-4.84243501e-01,  2.82453162e+00, -5.87458425e-02, ...,\n",
       "        -4.32110225e-02, -3.08845028e-01,  1.25815059e-01]])"
      ]
     },
     "execution_count": 43,
     "metadata": {},
     "output_type": "execute_result"
    },
    {
     "data": {
      "text/plain": [
       "array([[-0.34702704, -0.5294126 , -0.12070435, ...,  0.14794778,\n",
       "        -0.06804272, -0.0225128 ],\n",
       "       [-0.21829935, -0.92479567, -0.04201212, ..., -0.02145218,\n",
       "        -0.0909128 , -0.01683706],\n",
       "       [-0.33985283, -0.5397412 , -0.10783739, ...,  0.02441697,\n",
       "        -0.00588438, -0.02774547],\n",
       "       ...,\n",
       "       [-0.33001267, -0.63287133, -0.10503984, ...,  0.1138504 ,\n",
       "        -0.07024307,  0.01632809],\n",
       "       [-0.64097052,  5.50196878,  0.01719123, ..., -0.02956396,\n",
       "        -0.01926903, -0.00615809],\n",
       "       [-0.4842435 ,  2.82453162, -0.05874586, ..., -0.30880669,\n",
       "         0.12566749, -0.0294781 ]])"
      ]
     },
     "execution_count": 43,
     "metadata": {},
     "output_type": "execute_result"
    },
    {
     "data": {
      "text/plain": [
       "array([[-3.47027039e-01, -5.29412602e-01, -1.20704358e-01, ...,\n",
       "        -6.80766143e-02, -2.24514656e-02, -7.80793109e-03],\n",
       "       [-2.18299348e-01, -9.24795669e-01, -4.20121157e-02, ...,\n",
       "        -9.08618741e-02, -1.68877898e-02, -7.23247062e-03],\n",
       "       [-3.39852831e-01, -5.39741201e-01, -1.07837389e-01, ...,\n",
       "        -5.90250992e-03, -2.77283854e-02, -1.39391598e-02],\n",
       "       ...,\n",
       "       [-3.30012669e-01, -6.32871328e-01, -1.05039840e-01, ...,\n",
       "        -7.02465931e-02,  1.63480613e-02, -4.27911862e-03],\n",
       "       [-6.40970518e-01,  5.50196878e+00,  1.71912228e-02, ...,\n",
       "        -1.94001292e-02, -6.04504932e-03, -1.01539876e-02],\n",
       "       [-4.84243501e-01,  2.82453162e+00, -5.87458325e-02, ...,\n",
       "         1.25590895e-01, -2.93639121e-02, -1.36349126e-02]])"
      ]
     },
     "execution_count": 43,
     "metadata": {},
     "output_type": "execute_result"
    },
    {
     "data": {
      "text/plain": [
       "array([[-3.47027039e-01, -5.29412602e-01, -1.20704359e-01, ...,\n",
       "        -2.24777153e-02, -7.77473219e-03, -3.73306686e-02],\n",
       "       [-2.18299348e-01, -9.24795669e-01, -4.20121137e-02, ...,\n",
       "        -1.68292161e-02, -7.26874154e-03, -5.73806496e-02],\n",
       "       [-3.39852831e-01, -5.39741201e-01, -1.07837391e-01, ...,\n",
       "        -2.77592611e-02, -1.39195537e-02, -1.14532123e-02],\n",
       "       ...,\n",
       "       [-3.30012669e-01, -6.32871328e-01, -1.05039840e-01, ...,\n",
       "         1.63475140e-02, -4.26600138e-03, -4.48980916e-02],\n",
       "       [-6.40970518e-01,  5.50196878e+00,  1.71912177e-02, ...,\n",
       "        -6.18696572e-03, -1.00705366e-02, -1.26082428e-02],\n",
       "       [-4.84243501e-01,  2.82453162e+00, -5.87458418e-02, ...,\n",
       "        -2.95771540e-02, -1.34608894e-02,  4.89701912e-02]])"
      ]
     },
     "execution_count": 43,
     "metadata": {},
     "output_type": "execute_result"
    },
    {
     "data": {
      "text/plain": [
       "array([[-3.47027039e-01, -5.29412602e-01, -1.20704358e-01, ...,\n",
       "        -7.75477064e-03, -3.73503383e-02, -2.96131659e-01],\n",
       "       [-2.18299348e-01, -9.24795669e-01, -4.20121143e-02, ...,\n",
       "        -7.30649664e-03, -5.73761810e-02, -8.10226750e-03],\n",
       "       [-3.39852831e-01, -5.39741201e-01, -1.07837391e-01, ...,\n",
       "        -1.39038060e-02, -1.14449959e-02, -1.57133330e-01],\n",
       "       ...,\n",
       "       [-3.30012669e-01, -6.32871328e-01, -1.05039840e-01, ...,\n",
       "        -4.26364259e-03, -4.49053738e-02, -8.53320749e-02],\n",
       "       [-6.40970518e-01,  5.50196878e+00,  1.71912195e-02, ...,\n",
       "        -9.96433939e-03, -1.26239272e-02,  8.04136582e-02],\n",
       "       [-4.84243501e-01,  2.82453162e+00, -5.87458436e-02, ...,\n",
       "        -1.34339171e-02,  4.90711159e-02,  3.43036146e-01]])"
      ]
     },
     "execution_count": 43,
     "metadata": {},
     "output_type": "execute_result"
    },
    {
     "data": {
      "text/plain": [
       "array([[-0.34702704, -0.5294126 , -0.12070436, ..., -0.03734555,\n",
       "        -0.29614723,  0.07262294],\n",
       "       [-0.21829935, -0.92479567, -0.04201211, ..., -0.05738175,\n",
       "        -0.00808992,  0.03595344],\n",
       "       [-0.33985283, -0.5397412 , -0.10783739, ..., -0.01144433,\n",
       "        -0.15713842,  0.0056305 ],\n",
       "       ...,\n",
       "       [-0.33001267, -0.63287133, -0.10503984, ..., -0.04490532,\n",
       "        -0.08534005,  0.04580888],\n",
       "       [-0.64097052,  5.50196878,  0.01719122, ..., -0.01261491,\n",
       "         0.08038327, -0.05180601],\n",
       "       [-0.4842435 ,  2.82453162, -0.05874584, ...,  0.04907918,\n",
       "         0.34305087, -0.03882076]])"
      ]
     },
     "execution_count": 43,
     "metadata": {},
     "output_type": "execute_result"
    },
    {
     "data": {
      "text/plain": [
       "array([[-3.47027039e-01, -5.29412602e-01, -1.20704358e-01, ...,\n",
       "        -2.96146000e-01,  7.26211490e-02, -6.39383055e-04],\n",
       "       [-2.18299348e-01, -9.24795669e-01, -4.20121138e-02, ...,\n",
       "        -8.08852351e-03,  3.59516595e-02,  2.39886668e-02],\n",
       "       [-3.39852831e-01, -5.39741201e-01, -1.07837391e-01, ...,\n",
       "        -1.57137185e-01,  5.62888764e-03,  1.09016683e-01],\n",
       "       ...,\n",
       "       [-3.30012669e-01, -6.32871328e-01, -1.05039840e-01, ...,\n",
       "        -8.53363806e-02,  4.58038483e-02, -1.60481643e-02],\n",
       "       [-6.40970518e-01,  5.50196878e+00,  1.71912179e-02, ...,\n",
       "         8.03841430e-02, -5.18057357e-02, -2.81198342e-02],\n",
       "       [-4.84243501e-01,  2.82453162e+00, -5.87458431e-02, ...,\n",
       "         3.43032946e-01, -3.87941851e-02,  1.42995130e-01]])"
      ]
     },
     "execution_count": 43,
     "metadata": {},
     "output_type": "execute_result"
    },
    {
     "data": {
      "text/plain": [
       "array([[-3.47027039e-01, -5.29412602e-01, -1.20704358e-01, ...,\n",
       "         7.26216505e-02, -6.38784528e-04,  3.91916933e-02],\n",
       "       [-2.18299348e-01, -9.24795669e-01, -4.20121138e-02, ...,\n",
       "         3.59504970e-02,  2.39892299e-02, -7.31931143e-03],\n",
       "       [-3.39852831e-01, -5.39741201e-01, -1.07837391e-01, ...,\n",
       "         5.62730514e-03,  1.09016602e-01,  1.54375084e-02],\n",
       "       ...,\n",
       "       [-3.30012669e-01, -6.32871328e-01, -1.05039840e-01, ...,\n",
       "         4.58021148e-02, -1.60470982e-02, -3.28422476e-02],\n",
       "       [-6.40970518e-01,  5.50196878e+00,  1.71912178e-02, ...,\n",
       "        -5.18153814e-02, -2.81111995e-02, -1.83624423e-01],\n",
       "       [-4.84243501e-01,  2.82453162e+00, -5.87458430e-02, ...,\n",
       "        -3.87877246e-02,  1.42992054e-01,  5.59547840e-03]])"
      ]
     },
     "execution_count": 43,
     "metadata": {},
     "output_type": "execute_result"
    },
    {
     "data": {
      "text/plain": [
       "array([[-3.47027039e-01, -5.29412602e-01, -1.20704358e-01, ...,\n",
       "        -6.38635112e-04,  3.91967582e-02,  6.93801452e-03],\n",
       "       [-2.18299348e-01, -9.24795669e-01, -4.20121138e-02, ...,\n",
       "         2.39875504e-02, -7.32936378e-03, -8.65999645e-02],\n",
       "       [-3.39852831e-01, -5.39741201e-01, -1.07837391e-01, ...,\n",
       "         1.09014684e-01,  1.54233193e-02,  9.57918477e-03],\n",
       "       ...,\n",
       "       [-3.30012669e-01, -6.32871328e-01, -1.05039840e-01, ...,\n",
       "        -1.60497535e-02, -3.28578506e-02, -2.55504414e-03],\n",
       "       [-6.40970518e-01,  5.50196878e+00,  1.71912180e-02, ...,\n",
       "        -2.81205164e-02, -1.83727739e-01,  1.17982732e-01],\n",
       "       [-4.84243501e-01,  2.82453162e+00, -5.87458431e-02, ...,\n",
       "         1.43001464e-01,  5.66293449e-03, -9.36241354e-03]])"
      ]
     },
     "execution_count": 43,
     "metadata": {},
     "output_type": "execute_result"
    },
    {
     "data": {
      "text/plain": [
       "array([[-3.47027039e-01, -5.29412602e-01, -1.20704358e-01, ...,\n",
       "         3.91953131e-02,  6.93839516e-03,  5.42084322e-02],\n",
       "       [-2.18299348e-01, -9.24795669e-01, -4.20121138e-02, ...,\n",
       "        -7.32952656e-03, -8.65988922e-02, -5.09713860e-02],\n",
       "       [-3.39852831e-01, -5.39741201e-01, -1.07837391e-01, ...,\n",
       "         1.54240185e-02,  9.57958459e-03, -2.72225356e-02],\n",
       "       ...,\n",
       "       [-3.30012669e-01, -6.32871328e-01, -1.05039840e-01, ...,\n",
       "        -3.28582851e-02, -2.55364255e-03,  3.57058815e-03],\n",
       "       [-6.40970518e-01,  5.50196878e+00,  1.71912179e-02, ...,\n",
       "        -1.83705461e-01,  1.17989957e-01, -1.99722376e-02],\n",
       "       [-4.84243501e-01,  2.82453162e+00, -5.87458431e-02, ...,\n",
       "         5.66289354e-03, -9.36290299e-03,  4.37752257e-02]])"
      ]
     },
     "execution_count": 43,
     "metadata": {},
     "output_type": "execute_result"
    },
    {
     "data": {
      "text/plain": [
       "array([[-3.47027039e-01, -5.29412602e-01, -1.20704358e-01, ...,\n",
       "         6.93805311e-03,  5.42085520e-02, -4.13733375e-02],\n",
       "       [-2.18299348e-01, -9.24795669e-01, -4.20121138e-02, ...,\n",
       "        -8.65991769e-02, -5.09743080e-02,  5.16093653e-02],\n",
       "       [-3.39852831e-01, -5.39741201e-01, -1.07837391e-01, ...,\n",
       "         9.57952809e-03, -2.72250255e-02,  3.18592866e-02],\n",
       "       ...,\n",
       "       [-3.30012669e-01, -6.32871328e-01, -1.05039840e-01, ...,\n",
       "        -2.55412122e-03,  3.56598553e-03, -2.51511577e-02],\n",
       "       [-6.40970518e-01,  5.50196878e+00,  1.71912179e-02, ...,\n",
       "         1.17989592e-01, -1.99826449e-02,  8.99546899e-02],\n",
       "       [-4.84243501e-01,  2.82453162e+00, -5.87458431e-02, ...,\n",
       "        -9.36183212e-03,  4.37670591e-02, -7.72994243e-02]])"
      ]
     },
     "execution_count": 43,
     "metadata": {},
     "output_type": "execute_result"
    },
    {
     "data": {
      "text/plain": [
       "<Figure size 720x720 with 0 Axes>"
      ]
     },
     "execution_count": 43,
     "metadata": {},
     "output_type": "execute_result"
    },
    {
     "data": {
      "text/plain": [
       "[<matplotlib.lines.Line2D at 0x1ea6c718b50>]"
      ]
     },
     "execution_count": 43,
     "metadata": {},
     "output_type": "execute_result"
    },
    {
     "data": {
      "text/plain": [
       "Text(0.5, 0, 'Number of components')"
      ]
     },
     "execution_count": 43,
     "metadata": {},
     "output_type": "execute_result"
    },
    {
     "data": {
      "text/plain": [
       "Text(0, 0.5, 'Total explained variance')"
      ]
     },
     "execution_count": 43,
     "metadata": {},
     "output_type": "execute_result"
    },
    {
     "data": {
      "text/plain": [
       "Text(0.5, 1.0, 'Total explained variance per components')"
      ]
     },
     "execution_count": 43,
     "metadata": {},
     "output_type": "execute_result"
    },
    {
     "data": {
      "image/png": "[encoded data removed]",
      "text/plain": [
       "<Figure size 720x720 with 1 Axes>"
      ]
     },
     "metadata": {},
     "output_type": "display_data"
    }
   ],
   "source": [
    "# Deciding the number of components for PCA\n",
    "temp = []\n",
    "n_components = np.arange(3,30)\n",
    "for n in n_components:\n",
    "    pca = PCA(n_components = n)\n",
    "    pca.fit_transform(X_ros)\n",
    "    total_variance = pca.explained_variance_ratio_.sum()\n",
    "    temp.append(total_variance)\n",
    "\n",
    "sns.set_style('whitegrid')\n",
    "sns.set_palette('bwr')\n",
    "plt.figure(figsize = (10,10))\n",
    "plt.plot(n_components, temp)\n",
    "plt.xlabel('Number of components')\n",
    "plt.ylabel('Total explained variance')\n",
    "plt.title('Total explained variance per components')\n",
    "plt.show()"
   ]
  },
  {
   "cell_type": "markdown",
   "metadata": {},
   "source": [
    "1. Create an empty list to store explained variance\n",
    "2. Loop through different numbers of principal components\n",
    "   - a. Initialize PCA with 'n' components\n",
    "   - b. Fit PCA to the dataset and transform it\n",
    "   - c. Calculate the total explained variance\n",
    "   - d. Store the explained variance in the list\n",
    "3. Plot the number of components against the total explained variance\n",
    "\n",
    "In ECM, PCA can be used to identify key risk factors affecting economic capital.\n",
    "\n",
    "Stress Testing: PCA can identify major risk drivers that contribute to capital adequacy.\n",
    "\n",
    "Portfolio Risk Management: Helps group correlated financial metrics, improving model robustness."
   ]
  },
  {
   "cell_type": "markdown",
   "metadata": {},
   "source": [
    "We can see from the plot that the first 15 components have already explained 92% variance."
   ]
  },
  {
   "cell_type": "code",
   "execution_count": 44,
   "metadata": {},
   "outputs": [],
   "source": [
    "scaler = StandardScaler()\n",
    "X_scaled_ros = scaler.fit_transform(X_ros)\n",
    "pca = PCA(n_components=15)\n",
    "X_pca_ros = pca.fit_transform(X_scaled_ros)"
   ]
  },
  {
   "cell_type": "markdown",
   "metadata": {},
   "source": [
    "# SVM"
   ]
  },
  {
   "cell_type": "markdown",
   "metadata": {},
   "source": [
    "Since gridsearch takes quite a long time, I use randomsearch instead."
   ]
  },
  {
   "cell_type": "code",
   "execution_count": 45,
   "metadata": {
    "scrolled": true
   },
   "outputs": [
    {
     "data": {
      "text/plain": [
       "RandomizedSearchCV(cv=5, estimator=SVC(kernel='linear'),\n",
       "                   param_distributions={'C': [1, 10, 20], 'gamma': [0.1, 0.5],\n",
       "                                        'kernel': ['linear', 'rbf']})"
      ]
     },
     "execution_count": 45,
     "metadata": {},
     "output_type": "execute_result"
    },
    {
     "name": "stdout",
     "output_type": "stream",
     "text": [
      "Best hyperparameters: {'kernel': 'rbf', 'gamma': 0.5, 'C': 20}\n",
      "Best score: 0.95\n"
     ]
    }
   ],
   "source": [
    "from sklearn.model_selection import RandomizedSearchCV\n",
    "from scipy.stats import uniform\n",
    "from sklearn import svm\n",
    "from sklearn.svm import SVC\n",
    " \n",
    "# Define the hyperparameter search space for SVM\n",
    "param_dist = {'C': [1, 10, 20], # Regularization Strength, control trade-off between achieving a low error on training data \n",
    "                                # and maintaining model generalization\n",
    "              'gamma': [0.1, 0.5], # Kernel coefficient for RBF Kernel, control influence of individual training points on\n",
    "                                   # decision boundaries\n",
    "              'kernel': ['linear', 'rbf']} # Choice of Kernel Function, determine how the SVM separates data in feature space\n",
    "\n",
    "# Initialize an SVM model with a default linear kernel\n",
    "svm = svm.SVC(kernel='linear')\n",
    "n_iter_search = 10\n",
    "random_search = RandomizedSearchCV(svm, param_distributions=param_dist, n_iter=n_iter_search, cv=5)\n",
    "# random search helps find the best combination of hyperparameters for a machine learning model.\n",
    "# Fit Randomized Search to the resampled dataset\n",
    "random_search.fit(X_ros, y_ros)\n",
    "print(\"Best hyperparameters: {}\".format(random_search.best_params_))\n",
    "print(\"Best score: {:.2f}\".format(random_search.best_score_))"
   ]
  },
  {
   "cell_type": "code",
   "execution_count": 46,
   "metadata": {},
   "outputs": [
    {
     "name": "stdout",
     "output_type": "stream",
     "text": [
      "SVM\n"
     ]
    },
    {
     "data": {
      "text/plain": [
       "SVC(C=20, gamma=0.5)"
      ]
     },
     "execution_count": 46,
     "metadata": {},
     "output_type": "execute_result"
    }
   ],
   "source": [
    "from sklearn.model_selection import cross_val_score\n",
    "from sklearn import svm\n",
    "from sklearn.svm import SVC\n",
    "print(\"SVM\")\n",
    "\n",
    "# Initialize an SVM model with specified hyperparameters\n",
    "svm_model=SVC(C=20, gamma=0.5)\n",
    "# Split dataset into training (90%) and testing (10%) sets\n",
    "X_train, X_test, y_train, y_test = train_test_split(X_pca_ros, y_ros, test_size=0.1, random_state=42)\n",
    "svm_model.fit(X_train, y_train)\n",
    "svm_pred = svm_model.predict(X_test)"
   ]
  },
  {
   "cell_type": "code",
   "execution_count": 47,
   "metadata": {},
   "outputs": [
    {
     "name": "stdout",
     "output_type": "stream",
     "text": [
      "\tSVM model Accuracy: 83.7%, Recall 84.3%, Precision 83.0%\n"
     ]
    }
   ],
   "source": [
    "name = \"SVM model\"\n",
    "\n",
    "# Evaluate model performance\n",
    "accuracy_test = accuracy_score(y_test, svm_pred)\n",
    "recall_test = recall_score(y_test, svm_pred, pos_label=1, average=\"binary\")# Ability to detect bankrupt companies\n",
    "precision_test = precision_score(y_test,   svm_pred, pos_label=1, average=\"binary\", zero_division=1)\n",
    "\n",
    "print(\"\\t{m:s} Accuracy: {a:3.1%}, Recall {r:3.1%}, Precision {p:3.1%}\".format(m=name,\n",
    "                                                                            a=accuracy_test,\n",
    "                                                                            r=recall_test,\n",
    "                                                                            p=precision_test\n",
    "                                                                            )\n",
    "         )"
   ]
  },
  {
   "cell_type": "markdown",
   "metadata": {},
   "source": [
    "1. Initialize SVM model with hyperparameters: (depends on cases)\n",
    "   - C = 20 (higher regularization, reducing misclassification penalties)\n",
    "   - gamma = 0.5 (higher sensitivity to individual data points)\n",
    "2. Split dataset into training (90%) and testing (10%) sets.\n",
    "3. Train SVM model using the training set.\n",
    "4. Make predictions on the test set.\n",
    "5. Compute model evaluation metrics:\n",
    "   - Accuracy: Overall classification correctness\n",
    "   - Recall: Measures how well bankrupt companies are identified\n",
    "   - Precision: Measures correctness of bankruptcy predictions\n",
    "6. Print model performance results.\n",
    "7. Compute and visualize confusion matrix to analyze prediction errors. \n",
    "\n",
    "For ECM:\n",
    "\n",
    "Can be used to identify firms at higher financial risk\n",
    "\n",
    "Adjust parameters of SVM (c and gamma) to improve accuracy of default probability (Apply RandomizedSearchCV)"
   ]
  },
  {
   "cell_type": "code",
   "execution_count": 48,
   "metadata": {},
   "outputs": [
    {
     "data": {
      "text/plain": [
       "<AxesSubplot:>"
      ]
     },
     "execution_count": 48,
     "metadata": {},
     "output_type": "execute_result"
    },
    {
     "data": {
      "text/plain": [
       "Text(0.5, 16.0, 'Predicted')"
      ]
     },
     "execution_count": 48,
     "metadata": {},
     "output_type": "execute_result"
    },
    {
     "data": {
      "text/plain": [
       "Text(34.0, 0.5, 'Actual')"
      ]
     },
     "execution_count": 48,
     "metadata": {},
     "output_type": "execute_result"
    },
    {
     "data": {
      "text/plain": [
       "Text(0.5, 1.0, 'Confusion Matrix for SVM')"
      ]
     },
     "execution_count": 48,
     "metadata": {},
     "output_type": "execute_result"
    },
    {
     "data": {
      "image/png": "[encoded data removed]",
      "text/plain": [
       "<Figure size 432x288 with 2 Axes>"
      ]
     },
     "metadata": {},
     "output_type": "display_data"
    }
   ],
   "source": [
    "from sklearn.metrics import confusion_matrix\n",
    "cm = confusion_matrix(y_test, svm_pred)\n",
    "sns.heatmap(cm, annot=True, cmap='Blues', fmt='g')\n",
    "plt.xlabel('Predicted')\n",
    "plt.ylabel('Actual')\n",
    "plt.title('Confusion Matrix for SVM')\n",
    "plt.show()"
   ]
  },
  {
   "cell_type": "markdown",
   "metadata": {},
   "source": [
    "# Logistic Regression"
   ]
  },
  {
   "cell_type": "code",
   "execution_count": 49,
   "metadata": {},
   "outputs": [
    {
     "name": "stdout",
     "output_type": "stream",
     "text": [
      "Logistic Regression\n"
     ]
    },
    {
     "data": {
      "text/plain": [
       "LogisticRegression(class_weight='balanced', max_iter=5000, random_state=42)"
      ]
     },
     "execution_count": 49,
     "metadata": {},
     "output_type": "execute_result"
    },
    {
     "name": "stdout",
     "output_type": "stream",
     "text": [
      "\tLogistic Regression Model Accuracy: 75.4%, Recall 70.9%, Precision 77.5%\n"
     ]
    },
    {
     "data": {
      "text/plain": [
       "<AxesSubplot:>"
      ]
     },
     "execution_count": 49,
     "metadata": {},
     "output_type": "execute_result"
    },
    {
     "data": {
      "text/plain": [
       "Text(0.5, 16.0, 'Predicted')"
      ]
     },
     "execution_count": 49,
     "metadata": {},
     "output_type": "execute_result"
    },
    {
     "data": {
      "text/plain": [
       "Text(34.0, 0.5, 'Actual')"
      ]
     },
     "execution_count": 49,
     "metadata": {},
     "output_type": "execute_result"
    },
    {
     "data": {
      "text/plain": [
       "Text(0.5, 1.0, 'Confusion Matrix for Logistic Regression')"
      ]
     },
     "execution_count": 49,
     "metadata": {},
     "output_type": "execute_result"
    },
    {
     "data": {
      "image/png": "[encoded data removed]",
      "text/plain": [
       "<Figure size 432x288 with 2 Axes>"
      ]
     },
     "metadata": {},
     "output_type": "display_data"
    }
   ],
   "source": [
    "from sklearn.linear_model import LogisticRegression\n",
    "\n",
    "# Logistic Regression\n",
    "print(\"Logistic Regression\")\n",
    "\n",
    "# Initialize Logistic Regression with balanced class weights to handle class imbalance\n",
    "log_reg = LogisticRegression(\n",
    "    solver='lbfgs', # Solver for optimization (default, works well for small-medium datasets)      \n",
    "    max_iter=5000,  # Increase max iterations to ensure convergence      \n",
    "    class_weight='balanced',  # Adjusts weights to balance class distribution\n",
    "    random_state=42\n",
    ")\n",
    "\n",
    "# Train the model on the training set\n",
    "log_reg.fit(X_train, y_train)  \n",
    "# Predict on the test set\n",
    "log_reg_pred = log_reg.predict(X_test)  \n",
    "\n",
    "# Evaluate model performance\n",
    "accuracy_log_reg = accuracy_score(y_test, log_reg_pred)\n",
    "recall_log_reg = recall_score(y_test, log_reg_pred, pos_label=1, average=\"binary\")\n",
    "precision_log_reg = precision_score(y_test, log_reg_pred, pos_label=1, average=\"binary\")\n",
    "\n",
    "name = \"Logistic Regression Model\"\n",
    "print(\"\\t{m:s} Accuracy: {a:3.1%}, Recall {r:3.1%}, Precision {p:3.1%}\".format(\n",
    "    m=name, a=accuracy_log_reg, r=recall_log_reg, p=precision_log_reg\n",
    "))\n",
    "\n",
    "# Compute and visualize confusion matrix\n",
    "cm = confusion_matrix(y_test, log_reg_pred)\n",
    "sns.heatmap(cm, annot=True, cmap='Blues', fmt='g')\n",
    "plt.xlabel('Predicted')\n",
    "plt.ylabel('Actual')\n",
    "plt.title('Confusion Matrix for Logistic Regression')\n",
    "plt.show()"
   ]
  },
  {
   "cell_type": "markdown",
   "metadata": {},
   "source": [
    "1. Initialize Logistic Regression with:\n",
    "   - 'lbfgs' solver for optimization\n",
    "   - max_iter=5000 to prevent convergence issues\n",
    "   - class_weight='balanced' to handle imbalanced bankruptcy data\n",
    "2. Train the model using training data (X_train, y_train).\n",
    "\n",
    "3. Predict bankruptcy probabilities for test data (X_test).\n",
    "\n",
    "4. Compute model performance metrics:\n",
    "   - Accuracy: Overall model correctness\n",
    "   - Recall: Ensures bankrupt companies are correctly identified\n",
    "   - Precision: Measures correctness of bankruptcy predictions\n",
    "\n",
    "5. Print model evaluation results.\n",
    "\n",
    "6. Compute confusion matrix to analyze classification errors.\n",
    "\n",
    "7. Visualize confusion matrix using a heatmap.\n",
    "\n",
    "For ECM:\n",
    "\n",
    "Interpretable Model: Coefficients represent the impact of financial ratios on bankruptcy probability.\n",
    "\n",
    "Helps in probability-based economic capital allocation."
   ]
  },
  {
   "cell_type": "markdown",
   "metadata": {},
   "source": [
    "# Neural network model"
   ]
  },
  {
   "cell_type": "code",
   "execution_count": 50,
   "metadata": {},
   "outputs": [
    {
     "name": "stdout",
     "output_type": "stream",
     "text": [
      "Neural network\n",
      "iteration : 50000\n"
     ]
    },
    {
     "data": {
      "text/plain": [
       "MLPClassifier(activation='logistic', hidden_layer_sizes=(90, 90, 3),\n",
       "              max_iter=50000, random_state=1, solver='sgd')"
      ]
     },
     "execution_count": 50,
     "metadata": {},
     "output_type": "execute_result"
    },
    {
     "name": "stdout",
     "output_type": "stream",
     "text": [
      "sigmoid activation function test accuracy: 0.4911308203991131\n"
     ]
    }
   ],
   "source": [
    "from sklearn.metrics import classification_report\n",
    "print(\"Neural network\")\n",
    "print(\"iteration : 50000\")\n",
    "logistic_activation = MLPClassifier(activation = 'logistic', # Uses sigmoid activation function\n",
    "                                    hidden_layer_sizes = (90,90,3), # Three-layer neural network structure\n",
    "                                    solver = \"sgd\", # Uses stochastic gradient descent optimizer\n",
    "                                    random_state=1, max_iter=50000)\n",
    "\n",
    "# Train the neural network model\n",
    "logistic_activation.fit(X_train, y_train)\n",
    "# Predict on the test set\n",
    "logis_pred = logistic_activation.predict(X_test)\n",
    "score_logis = accuracy_score(logis_pred, y_test)\n",
    "print(\"sigmoid activation function test accuracy:\", score_logis)"
   ]
  },
  {
   "cell_type": "code",
   "execution_count": 51,
   "metadata": {},
   "outputs": [
    {
     "name": "stdout",
     "output_type": "stream",
     "text": [
      "\tNeural network model Accuracy: 49.1%, Recall 99.3%, Precision 49.3%\n"
     ]
    }
   ],
   "source": [
    "name = \"Neural network model\"\n",
    "\n",
    "# Evaluate model performance\n",
    "accuracy_test = accuracy_score(y_test, logis_pred)\n",
    "recall_test = recall_score(y_test, logis_pred, pos_label=1, average=\"binary\")\n",
    "precision_test = precision_score(y_test,   logis_pred, pos_label=1, average=\"binary\", zero_division=1)\n",
    "\n",
    "print(\"\\t{m:s} Accuracy: {a:3.1%}, Recall {r:3.1%}, Precision {p:3.1%}\".format(m=name,\n",
    "                                                                            a=accuracy_test,\n",
    "                                                                            r=recall_test,\n",
    "                                                                            p=precision_test\n",
    "                                                                            )\n",
    "         )"
   ]
  },
  {
   "cell_type": "markdown",
   "metadata": {},
   "source": [
    "1. Initialize a Neural Network (MLPClassifier) with:\n",
    "   - Sigmoid activation function ('logistic')\n",
    "   - Three hidden layers: 90, 90, 3 neurons\n",
    "   - Stochastic Gradient Descent (SGD) optimizer\n",
    "   - max_iter=50000 to ensure full convergence\n",
    "\n",
    "2. Train the model using training data (X_train, y_train).\n",
    "\n",
    "3. Predict bankruptcy outcomes for test data (X_test).\n",
    "\n",
    "4. Compute performance metrics:\n",
    "   - Accuracy: Overall correctness of predictions\n",
    "   - Recall: Ability to correctly classify bankrupt companies\n",
    "   - Precision: Accuracy of bankruptcy predictions\n",
    "\n",
    "5. Print model evaluation results.\n",
    "\n",
    "For ECM:\n",
    "\n",
    "Handles nonlinear relationship in financial data\n",
    "\n",
    "Sigmoid activation (logistic) is useful for probabilistic bankruptcy classification"
   ]
  },
  {
   "cell_type": "code",
   "execution_count": 52,
   "metadata": {},
   "outputs": [
    {
     "data": {
      "text/plain": [
       "<AxesSubplot:>"
      ]
     },
     "execution_count": 52,
     "metadata": {},
     "output_type": "execute_result"
    },
    {
     "data": {
      "text/plain": [
       "Text(0.5, 16.0, 'Predicted')"
      ]
     },
     "execution_count": 52,
     "metadata": {},
     "output_type": "execute_result"
    },
    {
     "data": {
      "text/plain": [
       "Text(34.0, 0.5, 'Actual')"
      ]
     },
     "execution_count": 52,
     "metadata": {},
     "output_type": "execute_result"
    },
    {
     "data": {
      "text/plain": [
       "Text(0.5, 1.0, 'Confusion Matrix for Neural Network')"
      ]
     },
     "execution_count": 52,
     "metadata": {},
     "output_type": "execute_result"
    },
    {
     "data": {
      "image/png": "[encoded data removed]",
      "text/plain": [
       "<Figure size 432x288 with 2 Axes>"
      ]
     },
     "metadata": {},
     "output_type": "display_data"
    }
   ],
   "source": [
    "cm = confusion_matrix(y_test, logis_pred)\n",
    "sns.heatmap(cm, annot=True, cmap='Blues', fmt='g')\n",
    "plt.xlabel('Predicted')\n",
    "plt.ylabel('Actual')\n",
    "plt.title('Confusion Matrix for Neural Network')\n",
    "plt.show()"
   ]
  },
  {
   "cell_type": "markdown",
   "metadata": {},
   "source": [
    "# Check your work: predict and evaluate metrics on *your* test examples\n",
    "\n",
    "Although only the instructors have the correct labels for the holdout dataset, you may want\n",
    "to create your own test dataset on which to evaluate your out of sample metrics.\n",
    "\n",
    "If you choose to do so, you can evaluate your models using the same metrics that the instructors will use.\n",
    "\n",
    "- Test whether your implementation of `MyModel` works\n",
    "- See the metrics  your model produces"
   ]
  },
  {
   "cell_type": "markdown",
   "metadata": {},
   "source": [
    "# Decision Tree"
   ]
  },
  {
   "cell_type": "code",
   "execution_count": 53,
   "metadata": {},
   "outputs": [],
   "source": [
    "import pandas as pd\n",
    "import os\n",
    "\n",
    "def MyModel(X):\n",
    "    model = tree.DecisionTreeClassifier(\n",
    "    max_depth=10, # Limit tree depth to avoid excessive complexity\n",
    "    min_samples_split=10, # Require at least 10 samples to split a node\n",
    "    min_samples_leaf=5, # Require at least 5 samples per leaf node\n",
    "    random_state=42)\n",
    "    model = model.fit(X_train, y_train)\n",
    "    \n",
    "    predictions = model.predict(X)\n",
    "    return predictions"
   ]
  },
  {
   "cell_type": "code",
   "execution_count": 54,
   "metadata": {},
   "outputs": [],
   "source": [
    "#random_out=holdout_data.iloc[:, :-1]\n",
    "#X_test=random_out.sample(n=482,axis='rows')"
   ]
  },
  {
   "cell_type": "code",
   "execution_count": 55,
   "metadata": {},
   "outputs": [
    {
     "name": "stdout",
     "output_type": "stream",
     "text": [
      "\tMy best model---Decision tree model:  Accuracy: 85.7%, Recall 90.1%, Precision 82.5%\n"
     ]
    }
   ],
   "source": [
    "name = \"My best model---Decision tree model: \"\n",
    "y_test_pred = MyModel(X_test)\n",
    "\n",
    "# Evaluate model performance\n",
    "accuracy_test = accuracy_score(y_test, y_test_pred)\n",
    "recall_test = recall_score(y_test, y_test_pred, pos_label=1, average=\"binary\")\n",
    "precision_test = precision_score(y_test, y_test_pred, pos_label=1, average=\"binary\")\n",
    "\n",
    "print(\"\\t{m:s} Accuracy: {a:3.1%}, Recall {r:3.1%}, Precision {p:3.1%}\".format(m=name,\n",
    "                                                                            a=accuracy_test,\n",
    "                                                                            r=recall_test,\n",
    "                                                                            p=precision_test\n",
    "                                                                            )\n",
    "         )"
   ]
  },
  {
   "cell_type": "markdown",
   "metadata": {},
   "source": [
    "1. Initialize a Decision Tree classifier with:\n",
    "   - max_depth=10 (prevent overfitting)\n",
    "   - min_samples_split=10 (ensure splits happen on sufficiently large nodes)\n",
    "   - min_samples_leaf=5 (ensure leaf nodes are not too small)\n",
    "\n",
    "2. Train the decision tree model on the training dataset (X_train, y_train).\n",
    "\n",
    "3. Predict bankruptcy status for given input data (X).\n",
    "\n",
    "4. Compute and return predictions.\n",
    "\n",
    "5. Test the model using X_test and evaluate:\n",
    "   - Accuracy (percentage of correct predictions)\n",
    "   - Recall (how well bankrupt firms are identified)\n",
    "   - Precision (correctness of bankruptcy predictions)\n",
    "\n",
    "6. Print model performance results.\n",
    "\n",
    "For ECM:\n",
    "Easy to visualize decision rules, help to find whichi financial metrics drive bankruptcy risk"
   ]
  },
  {
   "cell_type": "code",
   "execution_count": 56,
   "metadata": {},
   "outputs": [
    {
     "data": {
      "text/plain": [
       "<AxesSubplot:>"
      ]
     },
     "execution_count": 56,
     "metadata": {},
     "output_type": "execute_result"
    },
    {
     "data": {
      "text/plain": [
       "Text(0.5, 16.0, 'Predicted')"
      ]
     },
     "execution_count": 56,
     "metadata": {},
     "output_type": "execute_result"
    },
    {
     "data": {
      "text/plain": [
       "Text(34.0, 0.5, 'Actual')"
      ]
     },
     "execution_count": 56,
     "metadata": {},
     "output_type": "execute_result"
    },
    {
     "data": {
      "text/plain": [
       "Text(0.5, 1.0, 'Confusion Matrix for Decision tree')"
      ]
     },
     "execution_count": 56,
     "metadata": {},
     "output_type": "execute_result"
    },
    {
     "data": {
      "image/png": "[encoded data removed]",
      "text/plain": [
       "<Figure size 432x288 with 2 Axes>"
      ]
     },
     "metadata": {},
     "output_type": "display_data"
    }
   ],
   "source": [
    "cm = confusion_matrix(y_test, y_test_pred)\n",
    "sns.heatmap(cm, annot=True, cmap='Blues', fmt='g')\n",
    "plt.xlabel('Predicted')\n",
    "plt.ylabel('Actual')\n",
    "plt.title('Confusion Matrix for Decision tree')\n",
    "plt.show()"
   ]
  },
  {
   "cell_type": "markdown",
   "metadata": {},
   "source": [
    "I choose decision tree as my best model as its recall and precision are more in line with my expectation.\n",
    "As we know that \"You may assume that it is 5 times worse to fail to identify a company that will go bankrupt than it is to fail to identify a company that won't go bankrupt\", it indicates that we should have the recall higher than precision when trying to make trade-off between Recall and Precision. I set the test size to be small in order to achive this goal which larger proportion of the data will be used for training the model. Thus the model has more training data to learn from and can better capture the patterns in the data that are associated with the positive class. However, SVM model and neural network model fail to achieve this goal. I try to increase the penalty parameter of the error term of SVM model \"c\", but even I increase to 20000 recall is still smaller than precision. "
   ]
  },
  {
   "cell_type": "markdown",
   "metadata": {},
   "source": [
    "### Decision Tree\n",
    "\n",
    "Advantages:\n",
    "\n",
    "- Easy to interpret and visualize.\n",
    "- Captures non-linear relationships.\n",
    "- Works well with small datasets and categorical variables.\n",
    "\n",
    "Disadvantages:\n",
    "\n",
    "- Prone to overfitting, especially with deep trees.\n",
    "- Sensitive to noisy data.\n",
    "- Not as effective for high-dimensional data without boosting or bagging.\n",
    "\n",
    "### Neural Network (MLP)\n",
    "\n",
    "Advantages:\n",
    "\n",
    "- Excellent for capturing complex, non-linear patterns.\n",
    "- Works well with large datasets and high-dimensional data.\n",
    "- Can model financial risk factors that interact in non-trivial ways.\n",
    "\n",
    "Disadvantages:\n",
    "- Hard to interpret (black-box model).\n",
    "- Requires high computational power and tuning.\n",
    "- Prone to overfitting if not properly regularized.\n",
    "\n",
    "### Logistic Regression\n",
    "\n",
    "Advantages:\n",
    "\n",
    "- Simple, interpretable, and easy to implement.\n",
    "- Works well for linearly separable data.\n",
    "- Computationally efficient, even for large datasets.\n",
    "\n",
    "Disadvantages:\n",
    "- Assumes linear relationships, which may not hold for complex financial data.\n",
    "- Struggles with imbalanced data without resampling techniques.\n",
    "- Less powerful compared to tree-based models or deep learning.\n",
    "\n",
    "### Support Vector Machine (SVM)\n",
    "\n",
    "Advantages:\n",
    "\n",
    "- Works well with small and medium-sized datasets.\n",
    "- Effective for high-dimensional data.\n",
    "- Can handle non-linear classification with the right kernel.\n",
    "\n",
    "Disadvantages:\n",
    "- Computationally expensive for large datasets.\n",
    "- Hard to interpret compared to logistic regression or decision trees.\n",
    "- Requires tuning of C and gamma to avoid overfitting or underfitting.\n",
    "\n",
    "ECM:\n",
    "\n",
    "Suggest for logistic regression (easy, interpretable) Neural network (For Complex Risk Patterns)\n",
    "\n",
    "A single Decision Tree can easily memorize training data instead of learning general patterns (since variables for ECM interact in complex way)\n",
    "\n",
    "SVM is quite expensive in large dataset"
   ]
  }
 ],
 "metadata": {
  "kernelspec": {
   "display_name": "Python 3 (ipykernel)",
   "language": "python",
   "name": "python3"
  },
  "language_info": {
   "codemirror_mode": {
    "name": "ipython",
    "version": 3
   },
   "file_extension": ".py",
   "mimetype": "text/x-python",
   "name": "python",
   "nbconvert_exporter": "python",
   "pygments_lexer": "ipython3",
   "version": "3.9.12"
  },
  "toc": {
   "base_numbering": 1,
   "nav_menu": {},
   "number_sections": true,
   "sideBar": true,
   "skip_h1_title": false,
   "title_cell": "Table of Contents",
   "title_sidebar": "Contents",
   "toc_cell": false,
   "toc_position": {
    "height": "calc(100% - 180px)",
    "left": "10px",
    "top": "150px",
    "width": "370.594px"
   },
   "toc_section_display": true,
   "toc_window_display": true
  }
 },
 "nbformat": 4,
 "nbformat_minor": 2
}
