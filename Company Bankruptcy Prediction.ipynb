{
 "cells": [
  {
   "cell_type": "markdown",
   "metadata": {},
   "source": [
    "# Problem description\n",
    "\n",
    "You are to predict whether a company will go bankrupt in the following year, based on financial attributes of the company.\n",
    "\n",
    "Perhaps you are contemplating lending money to a company, and need to know whether the company\n",
    "is in near-term danger of not being able to repay.\n"
   ]
  },
  {
   "cell_type": "markdown",
   "metadata": {},
   "source": [
    "## Goal"
   ]
  },
  {
   "cell_type": "markdown",
   "metadata": {
    "slideshow": {
     "slide_type": "fragment"
    }
   },
   "source": [
    "## Learning objectives\n",
    "\n",
    "- Demonstrate mastery on solving a classification problem and presenting\n",
    "the entire Recipe for Machine Learning process in a notebook.\n",
    "- We will make suggestions for ways to approach the problem\n",
    "    - But there will be little explicit direction for this task.\n",
    "- It is meant to be analogous to a pre-interview task that a potential employer might assign\n",
    "to verify your skill"
   ]
  },
  {
   "cell_type": "markdown",
   "metadata": {},
   "source": [
    "# Import modules"
   ]
  },
  {
   "cell_type": "code",
   "execution_count": 216,
   "metadata": {},
   "outputs": [],
   "source": [
    "## Standard imports\n",
    "import numpy as np\n",
    "import pandas as pd\n",
    "import matplotlib.pyplot as plt\n",
    "\n",
    "import sklearn\n",
    "\n",
    "import os\n",
    "import math\n",
    "\n",
    "%matplotlib inline\n"
   ]
  },
  {
   "cell_type": "markdown",
   "metadata": {},
   "source": [
    "# API for students"
   ]
  },
  {
   "cell_type": "code",
   "execution_count": 217,
   "metadata": {},
   "outputs": [
    {
     "name": "stdout",
     "output_type": "stream",
     "text": [
      "The autoreload extension is already loaded. To reload it, use:\n",
      "  %reload_ext autoreload\n"
     ]
    }
   ],
   "source": [
    "## Load the bankruptcy_helper module\n",
    "\n",
    "from IPython.core.interactiveshell import InteractiveShell\n",
    "InteractiveShell.ast_node_interactivity = \"all\"\n",
    "\n",
    "# Reload all modules imported with %aimport\n",
    "%load_ext autoreload\n",
    "%autoreload 1\n",
    "\n",
    "# Import bankruptcy_helper module\n",
    "import bankruptcy_helper\n",
    "%aimport bankruptcy_helper\n",
    "\n",
    "helper = bankruptcy_helper.Helper()"
   ]
  },
  {
   "cell_type": "markdown",
   "metadata": {},
   "source": [
    "# Get the data\n",
    "\n",
    "The first step in our Recipe is Get the Data.\n",
    "\n",
    "- Each example is a row of data corresponding to a single company\n",
    "- There are 64 attributes, described in the section below\n",
    "- The column `Bankrupt` is 1 if the company subsequently went bankrupt; 0 if it did not go bankrupt\n",
    "- The column `Id` is a Company Identifier"
   ]
  },
  {
   "cell_type": "code",
   "execution_count": 218,
   "metadata": {},
   "outputs": [
    {
     "name": "stdout",
     "output_type": "stream",
     "text": [
      "Date shape:  (4818, 66)\n"
     ]
    }
   ],
   "source": [
    "# Data directory\n",
    "DATA_DIR = \"./Data\"\n",
    "\n",
    "if not os.path.isdir(DATA_DIR):\n",
    "    DATA_DIR = \"../resource/asnlib/publicdata/bankruptcy/data\"\n",
    "\n",
    "data_file = \"5th_yr.csv\"\n",
    "data = pd.read_csv( os.path.join(DATA_DIR, \"train\", data_file) )\n",
    "\n",
    "target_attr = \"Bankrupt\"\n",
    "\n",
    "n_samples, n_attrs = data.shape\n",
    "print(\"Date shape: \", data.shape)"
   ]
  },
  {
   "cell_type": "markdown",
   "metadata": {},
   "source": [
    "## Have a look at the data\n",
    "\n",
    "We will not go through all steps in the Recipe, nor in depth.\n",
    "\n",
    "But here's a peek"
   ]
  },
  {
   "cell_type": "code",
   "execution_count": 219,
   "metadata": {},
   "outputs": [
    {
     "data": {
      "text/html": [
       "<div>\n",
       "<style scoped>\n",
       "    .dataframe tbody tr th:only-of-type {\n",
       "        vertical-align: middle;\n",
       "    }\n",
       "\n",
       "    .dataframe tbody tr th {\n",
       "        vertical-align: top;\n",
       "    }\n",
       "\n",
       "    .dataframe thead th {\n",
       "        text-align: right;\n",
       "    }\n",
       "</style>\n",
       "<table border=\"1\" class=\"dataframe\">\n",
       "  <thead>\n",
       "    <tr style=\"text-align: right;\">\n",
       "      <th></th>\n",
       "      <th>X1</th>\n",
       "      <th>X2</th>\n",
       "      <th>X3</th>\n",
       "      <th>X4</th>\n",
       "      <th>X5</th>\n",
       "      <th>X6</th>\n",
       "      <th>X7</th>\n",
       "      <th>X8</th>\n",
       "      <th>X9</th>\n",
       "      <th>X10</th>\n",
       "      <th>...</th>\n",
       "      <th>X57</th>\n",
       "      <th>X58</th>\n",
       "      <th>X59</th>\n",
       "      <th>X60</th>\n",
       "      <th>X61</th>\n",
       "      <th>X62</th>\n",
       "      <th>X63</th>\n",
       "      <th>X64</th>\n",
       "      <th>Bankrupt</th>\n",
       "      <th>Id</th>\n",
       "    </tr>\n",
       "  </thead>\n",
       "  <tbody>\n",
       "    <tr>\n",
       "      <th>0</th>\n",
       "      <td>0.025417</td>\n",
       "      <td>0.41769</td>\n",
       "      <td>0.0568</td>\n",
       "      <td>1.1605</td>\n",
       "      <td>-126.39</td>\n",
       "      <td>0.41355</td>\n",
       "      <td>0.025417</td>\n",
       "      <td>1.2395</td>\n",
       "      <td>1.16500</td>\n",
       "      <td>0.51773</td>\n",
       "      <td>...</td>\n",
       "      <td>0.049094</td>\n",
       "      <td>0.85835</td>\n",
       "      <td>0.12322</td>\n",
       "      <td>5.6167</td>\n",
       "      <td>7.4042</td>\n",
       "      <td>164.310</td>\n",
       "      <td>2.2214</td>\n",
       "      <td>1.334</td>\n",
       "      <td>0</td>\n",
       "      <td>4510</td>\n",
       "    </tr>\n",
       "    <tr>\n",
       "      <th>1</th>\n",
       "      <td>-0.023834</td>\n",
       "      <td>0.2101</td>\n",
       "      <td>0.50839</td>\n",
       "      <td>4.2374</td>\n",
       "      <td>22.034</td>\n",
       "      <td>0.058412</td>\n",
       "      <td>-0.027621</td>\n",
       "      <td>3.6579</td>\n",
       "      <td>0.98183</td>\n",
       "      <td>0.76855</td>\n",
       "      <td>...</td>\n",
       "      <td>-0.031011</td>\n",
       "      <td>1.01850</td>\n",
       "      <td>0.069047</td>\n",
       "      <td>5.7996</td>\n",
       "      <td>7.7529</td>\n",
       "      <td>26.446</td>\n",
       "      <td>13.802</td>\n",
       "      <td>6.4782</td>\n",
       "      <td>0</td>\n",
       "      <td>3537</td>\n",
       "    </tr>\n",
       "    <tr>\n",
       "      <th>2</th>\n",
       "      <td>0.030515</td>\n",
       "      <td>0.44606</td>\n",
       "      <td>0.19569</td>\n",
       "      <td>1.565</td>\n",
       "      <td>35.766</td>\n",
       "      <td>0.28196</td>\n",
       "      <td>0.039264</td>\n",
       "      <td>0.88456</td>\n",
       "      <td>1.05260</td>\n",
       "      <td>0.39457</td>\n",
       "      <td>...</td>\n",
       "      <td>0.077337</td>\n",
       "      <td>0.95006</td>\n",
       "      <td>0.25266</td>\n",
       "      <td>15.049</td>\n",
       "      <td>2.8179</td>\n",
       "      <td>104.730</td>\n",
       "      <td>3.4852</td>\n",
       "      <td>2.6361</td>\n",
       "      <td>0</td>\n",
       "      <td>3920</td>\n",
       "    </tr>\n",
       "    <tr>\n",
       "      <th>3</th>\n",
       "      <td>0.052318</td>\n",
       "      <td>0.056366</td>\n",
       "      <td>0.54562</td>\n",
       "      <td>10.68</td>\n",
       "      <td>438.2</td>\n",
       "      <td>0.13649</td>\n",
       "      <td>0.058164</td>\n",
       "      <td>10.853</td>\n",
       "      <td>1.02790</td>\n",
       "      <td>0.61173</td>\n",
       "      <td>...</td>\n",
       "      <td>0.085524</td>\n",
       "      <td>0.97282</td>\n",
       "      <td>0</td>\n",
       "      <td>6.0157</td>\n",
       "      <td>7.4626</td>\n",
       "      <td>48.756</td>\n",
       "      <td>7.4863</td>\n",
       "      <td>1.0602</td>\n",
       "      <td>0</td>\n",
       "      <td>1806</td>\n",
       "    </tr>\n",
       "    <tr>\n",
       "      <th>4</th>\n",
       "      <td>0.000992</td>\n",
       "      <td>0.49712</td>\n",
       "      <td>0.12316</td>\n",
       "      <td>1.3036</td>\n",
       "      <td>-71.398</td>\n",
       "      <td>0</td>\n",
       "      <td>0.001007</td>\n",
       "      <td>1.0116</td>\n",
       "      <td>1.29210</td>\n",
       "      <td>0.50288</td>\n",
       "      <td>...</td>\n",
       "      <td>0.001974</td>\n",
       "      <td>0.99925</td>\n",
       "      <td>0.019736</td>\n",
       "      <td>3.4819</td>\n",
       "      <td>8.582</td>\n",
       "      <td>114.580</td>\n",
       "      <td>3.1854</td>\n",
       "      <td>2.742</td>\n",
       "      <td>0</td>\n",
       "      <td>1529</td>\n",
       "    </tr>\n",
       "  </tbody>\n",
       "</table>\n",
       "<p>5 rows × 66 columns</p>\n",
       "</div>"
      ],
      "text/plain": [
       "          X1        X2       X3      X4       X5        X6         X7  \\\n",
       "0   0.025417   0.41769   0.0568  1.1605  -126.39   0.41355   0.025417   \n",
       "1  -0.023834    0.2101  0.50839  4.2374   22.034  0.058412  -0.027621   \n",
       "2   0.030515   0.44606  0.19569   1.565   35.766   0.28196   0.039264   \n",
       "3   0.052318  0.056366  0.54562   10.68    438.2   0.13649   0.058164   \n",
       "4   0.000992   0.49712  0.12316  1.3036  -71.398         0   0.001007   \n",
       "\n",
       "        X8       X9      X10  ...        X57      X58       X59     X60  \\\n",
       "0   1.2395  1.16500  0.51773  ...   0.049094  0.85835   0.12322  5.6167   \n",
       "1   3.6579  0.98183  0.76855  ...  -0.031011  1.01850  0.069047  5.7996   \n",
       "2  0.88456  1.05260  0.39457  ...   0.077337  0.95006   0.25266  15.049   \n",
       "3   10.853  1.02790  0.61173  ...   0.085524  0.97282         0  6.0157   \n",
       "4   1.0116  1.29210  0.50288  ...   0.001974  0.99925  0.019736  3.4819   \n",
       "\n",
       "      X61      X62     X63     X64  Bankrupt    Id  \n",
       "0  7.4042  164.310  2.2214   1.334         0  4510  \n",
       "1  7.7529   26.446  13.802  6.4782         0  3537  \n",
       "2  2.8179  104.730  3.4852  2.6361         0  3920  \n",
       "3  7.4626   48.756  7.4863  1.0602         0  1806  \n",
       "4   8.582  114.580  3.1854   2.742         0  1529  \n",
       "\n",
       "[5 rows x 66 columns]"
      ]
     },
     "execution_count": 219,
     "metadata": {},
     "output_type": "execute_result"
    }
   ],
   "source": [
    "data.head()"
   ]
  },
  {
   "cell_type": "markdown",
   "metadata": {},
   "source": [
    "Pretty *unhelpful* !\n",
    "\n",
    "What are these mysteriously named features ?\n",
    "\n",
    "## Description of attributes"
   ]
  },
  {
   "cell_type": "raw",
   "metadata": {},
   "source": [
    "Attribute Information:\n",
    "\n",
    "Id Company Identifier \n",
    "X1 net profit / total assets\n",
    "X2 total liabilities / total assets\n",
    "X3 working capital / total assets\n",
    "X4 current assets / short-term liabilities\n",
    "X5 [(cash + short-term securities + receivables - short-term liabilities) / (operating expenses - depreciation)] * 365\n",
    "X6 retained earnings / total assets\n",
    "X7 EBIT / total assets\n",
    "X8 book value of equity / total liabilities\n",
    "X9 sales / total assets\n",
    "X10 equity / total assets\n",
    "X11 (gross profit + extraordinary items + financial expenses) / total assets\n",
    "X12 gross profit / short-term liabilities\n",
    "X13 (gross profit + depreciation) / sales\n",
    "X14 (gross profit + interest) / total assets\n",
    "X15 (total liabilities * 365) / (gross profit + depreciation)\n",
    "X16 (gross profit + depreciation) / total liabilities\n",
    "X17 total assets / total liabilities\n",
    "X18 gross profit / total assets\n",
    "X19 gross profit / sales\n",
    "X20 (inventory * 365) / sales\n",
    "X21 sales (n) / sales (n-1)\n",
    "X22 profit on operating activities / total assets\n",
    "X23 net profit / sales\n",
    "X24 gross profit (in 3 years) / total assets\n",
    "X25 (equity - share capital) / total assets\n",
    "X26 (net profit + depreciation) / total liabilities\n",
    "X27 profit on operating activities / financial expenses\n",
    "X28 working capital / fixed assets\n",
    "X29 logarithm of total assets\n",
    "X30 (total liabilities - cash) / sales\n",
    "X31 (gross profit + interest) / sales\n",
    "X32 (current liabilities * 365) / cost of products sold\n",
    "X33 operating expenses / short-term liabilities\n",
    "X34 operating expenses / total liabilities\n",
    "X35 profit on sales / total assets\n",
    "X36 total sales / total assets\n",
    "X37 (current assets - inventories) / long-term liabilities\n",
    "X38 constant capital / total assets\n",
    "X39 profit on sales / sales\n",
    "X40 (current assets - inventory - receivables) / short-term liabilities\n",
    "X41 total liabilities / ((profit on operating activities + depreciation) * (12/365))\n",
    "X42 profit on operating activities / sales\n",
    "X43 rotation receivables + inventory turnover in days\n",
    "X44 (receivables * 365) / sales\n",
    "X45 net profit / inventory\n",
    "X46 (current assets - inventory) / short-term liabilities\n",
    "X47 (inventory * 365) / cost of products sold\n",
    "X48 EBITDA (profit on operating activities - depreciation) / total assets\n",
    "X49 EBITDA (profit on operating activities - depreciation) / sales\n",
    "X50 current assets / total liabilities\n",
    "X51 short-term liabilities / total assets\n",
    "X52 (short-term liabilities * 365) / cost of products sold)\n",
    "X53 equity / fixed assets\n",
    "X54 constant capital / fixed assets\n",
    "X55 working capital\n",
    "X56 (sales - cost of products sold) / sales\n",
    "X57 (current assets - inventory - short-term liabilities) / (sales - gross profit - depreciation)\n",
    "X58 total costs /total sales\n",
    "X59 long-term liabilities / equity\n",
    "X60 sales / inventory\n",
    "X61 sales / receivables\n",
    "X62 (short-term liabilities *365) / sales\n",
    "X63 sales / short-term liabilities\n",
    "X64 sales / fixed assets\n"
   ]
  },
  {
   "cell_type": "markdown",
   "metadata": {},
   "source": [
    "This may still be somewhat unhelpful for those of you not used to reading Financial Statements.\n",
    "\n",
    "But that's partially the point of the exercise\n",
    "- You can *still* perform Machine Learning *even if* you are not an expert in the problem domain\n",
    "    - That's what makes this a good interview exercise: you can demonstrate your thought process even if you don't know the exact meaning of the terms\n",
    "- Of course: becoming an expert in the domain *will improve* your ability to create better models\n",
    "    - Feature engineering is easier if you understand the features, their inter-relationships, and the relationship to the target"
   ]
  },
  {
   "cell_type": "markdown",
   "metadata": {},
   "source": [
    "Let's get a feel for the data\n",
    "- What is the type of each attribute ?\n"
   ]
  },
  {
   "cell_type": "code",
   "execution_count": 220,
   "metadata": {},
   "outputs": [
    {
     "name": "stdout",
     "output_type": "stream",
     "text": [
      "<class 'pandas.core.frame.DataFrame'>\n",
      "RangeIndex: 4818 entries, 0 to 4817\n",
      "Data columns (total 66 columns):\n",
      " #   Column    Non-Null Count  Dtype  \n",
      "---  ------    --------------  -----  \n",
      " 0   X1        4818 non-null   object \n",
      " 1   X2        4818 non-null   object \n",
      " 2   X3        4818 non-null   object \n",
      " 3   X4        4818 non-null   object \n",
      " 4   X5        4818 non-null   object \n",
      " 5   X6        4818 non-null   object \n",
      " 6   X7        4818 non-null   object \n",
      " 7   X8        4818 non-null   object \n",
      " 8   X9        4818 non-null   float64\n",
      " 9   X10       4818 non-null   object \n",
      " 10  X11       4818 non-null   object \n",
      " 11  X12       4818 non-null   object \n",
      " 12  X13       4818 non-null   float64\n",
      " 13  X14       4818 non-null   object \n",
      " 14  X15       4818 non-null   object \n",
      " 15  X16       4818 non-null   object \n",
      " 16  X17       4818 non-null   object \n",
      " 17  X18       4818 non-null   object \n",
      " 18  X19       4818 non-null   float64\n",
      " 19  X20       4818 non-null   float64\n",
      " 20  X21       4818 non-null   object \n",
      " 21  X22       4818 non-null   object \n",
      " 22  X23       4818 non-null   float64\n",
      " 23  X24       4818 non-null   object \n",
      " 24  X25       4818 non-null   object \n",
      " 25  X26       4818 non-null   object \n",
      " 26  X27       4818 non-null   object \n",
      " 27  X28       4818 non-null   object \n",
      " 28  X29       4818 non-null   object \n",
      " 29  X30       4818 non-null   float64\n",
      " 30  X31       4818 non-null   float64\n",
      " 31  X32       4818 non-null   object \n",
      " 32  X33       4818 non-null   object \n",
      " 33  X34       4818 non-null   object \n",
      " 34  X35       4818 non-null   object \n",
      " 35  X36       4818 non-null   object \n",
      " 36  X37       4818 non-null   object \n",
      " 37  X38       4818 non-null   object \n",
      " 38  X39       4818 non-null   float64\n",
      " 39  X40       4818 non-null   object \n",
      " 40  X41       4818 non-null   object \n",
      " 41  X42       4818 non-null   float64\n",
      " 42  X43       4818 non-null   float64\n",
      " 43  X44       4818 non-null   float64\n",
      " 44  X45       4818 non-null   object \n",
      " 45  X46       4818 non-null   object \n",
      " 46  X47       4818 non-null   object \n",
      " 47  X48       4818 non-null   object \n",
      " 48  X49       4818 non-null   float64\n",
      " 49  X50       4818 non-null   object \n",
      " 50  X51       4818 non-null   object \n",
      " 51  X52       4818 non-null   object \n",
      " 52  X53       4818 non-null   object \n",
      " 53  X54       4818 non-null   object \n",
      " 54  X55       4818 non-null   float64\n",
      " 55  X56       4818 non-null   float64\n",
      " 56  X57       4818 non-null   object \n",
      " 57  X58       4818 non-null   float64\n",
      " 58  X59       4818 non-null   object \n",
      " 59  X60       4818 non-null   object \n",
      " 60  X61       4818 non-null   object \n",
      " 61  X62       4818 non-null   float64\n",
      " 62  X63       4818 non-null   object \n",
      " 63  X64       4818 non-null   object \n",
      " 64  Bankrupt  4818 non-null   int64  \n",
      " 65  Id        4818 non-null   int64  \n",
      "dtypes: float64(16), int64(2), object(48)\n",
      "memory usage: 2.4+ MB\n"
     ]
    }
   ],
   "source": [
    "data.info()"
   ]
  },
  {
   "cell_type": "markdown",
   "metadata": {},
   "source": [
    "You may be puzzled:\n",
    "- Most attributes are `object` and *not* numeric (`float64`)\n",
    "- But looking at the data via `data.head()` certainly gives the impression that all attributes are numeric\n",
    "\n",
    "Welcome to the world of messy data !  The dataset has represented numbers as strings.\n",
    "- These little unexpected challenges are common in the real-word\n",
    "- Data is rarely perfect and clean"
   ]
  },
  {
   "cell_type": "markdown",
   "metadata": {},
   "source": [
    "So you might want to first convert all attributes to numeric\n",
    "\n",
    "**Hint**\n",
    "- Look up the Pandas method `to_numeric`\n",
    "    - We suggest you use the option `errors='coerce'`\n",
    "    "
   ]
  },
  {
   "cell_type": "markdown",
   "metadata": {},
   "source": [
    "# Evaluating your project"
   ]
  },
  {
   "cell_type": "markdown",
   "metadata": {},
   "source": [
    "We will evaluate your submission on a test dataset that we provide\n",
    "- It has no labels, so **you** can't use it to evaluate your model, but **we** have the labels\n",
    "- We will call this evaluation dataset the \"holdout\" data\n",
    "\n",
    "Let's get it"
   ]
  },
  {
   "cell_type": "code",
   "execution_count": 221,
   "metadata": {},
   "outputs": [
    {
     "name": "stdout",
     "output_type": "stream",
     "text": [
      "Data shape:  (1092, 65)\n"
     ]
    }
   ],
   "source": [
    "holdout_data = pd.read_csv( os.path.join(DATA_DIR, \"holdout\", '5th_yr.csv') )\n",
    "\n",
    "print(\"Data shape: \", holdout_data.shape)\n"
   ]
  },
  {
   "cell_type": "markdown",
   "metadata": {},
   "source": [
    "We will evaluate your model on the holdout examples using metrics\n",
    "- Accuracy\n",
    "- Recall\n",
    "- Precision\n",
    "\n",
    "From our lecture: we may have to make a trade-off between Recall and Precision.\n",
    "\n",
    "Our evaluation of your submission will be partially based on how you made (and described) the trade-off.\n",
    "\n",
    "You may assume that it is 5 times worse to *fail to identify a company that will go bankrupt*\n",
    "than it is to fail to identify a company that won't go bankrupt."
   ]
  },
  {
   "cell_type": "markdown",
   "metadata": {},
   "source": [
    "# Your model\n",
    "\n",
    "Time for you to continue the Recipe for Machine Learning on your own.\n",
    "\n"
   ]
  },
  {
   "cell_type": "markdown",
   "metadata": {},
   "source": [
    "## Submission guidelines\n",
    "\n",
    "Although your notebook may contain many models (e.g., due to your iterative development)\n",
    "we will only evaluate a single model.\n",
    "So choose one (explain why !) and do the following.\n",
    "\n",
    "- You will implement the body of a subroutine `MyModel`\n",
    "    - That takes as argument a Pandas DataFrame \n",
    "        - Each row is an example on which to predict\n",
    "        - The features of the example are elements of the row\n",
    "    - Performs predictions on each example\n",
    "    - Returns an array or predictions with a one-to-one correspondence with the examples in the test set\n",
    "    "
   ]
  },
  {
   "cell_type": "markdown",
   "metadata": {},
   "source": [
    "We will evaluate your model against the holdout data\n",
    "- By reading the holdout examples `X_hold` (as above)\n",
    "- Calling `y_hold_pred = MyModel(X_hold)` to get the predictions\n",
    "- Comparing the predicted values `y_hold_pred` against the true labels `y_hold` which are known only to the instructors\n",
    "\n",
    "See the following cell as an illustration"
   ]
  },
  {
   "cell_type": "raw",
   "metadata": {},
   "source": [
    "X_hold = pd.read_csv( os.path.join(DATA_DIR, \"holdout\", '5th_yr.csv') )\n",
    "\n",
    "# Predict using MyModel\n",
    "y_hold_pred = MyModel(X_hold)\n",
    "\n",
    "# Compute metrics\n",
    "# accuracy\n",
    "accuracy_hold = accuracy_score(y_hold, y_hold_pred)\n",
    "\n",
    "# recall_\n",
    "recall_hold = recall_score(y_hold, y_hold_pred, pos_label=1, average=\"binary\")\n",
    "\n",
    "# precision\n",
    "precision_hold = precision_score(y_hold,   y_hold_pred, pos_label=1, average=\"binary\")\n",
    "\n",
    "\n",
    "print(\"\\t{m:s} Accuracy: {a:3.1%}, Recall {r:3.1%}, Precision {p:3.1%}\".format(m=name,\n",
    "                                                                            a=accuracy_hold,\n",
    "                                                                            r=recall_hold,\n",
    "                                                                            p=precision_hold\n",
    "                                                                            )\n",
    "         )"
   ]
  },
  {
   "cell_type": "markdown",
   "metadata": {},
   "source": [
    "**Remember**\n",
    "\n",
    "The holdout data is in the same format as the one we used for training\n",
    "- Except that it has no attribute for the target\n",
    "- So you will need to perform all the transformations on the holdout data\n",
    "    - As you did on the training data\n",
    "    - Including turning the string representation of numbers into actual numeric data types\n",
    "\n",
    "All of this work *must* be performed within the body of the `MyModel` routine you will write\n",
    "\n",
    "We will grade you by comparing the predictions array you create to the answers known to us."
   ]
  },
  {
   "cell_type": "code",
   "execution_count": 222,
   "metadata": {},
   "outputs": [],
   "source": [
    "from sklearn.decomposition import PCA\n",
    "from sklearn import svm\n",
    "from sklearn.metrics import accuracy_score\n",
    "from sklearn.metrics import recall_score\n",
    "from sklearn.metrics import precision_score\n",
    "from sklearn.preprocessing import StandardScaler\n",
    "from sklearn.model_selection import cross_val_predict, train_test_split\n",
    "from sklearn.svm import SVC\n",
    "from sklearn.neural_network import MLPClassifier\n",
    "from sklearn import tree\n",
    "import math"
   ]
  },
  {
   "cell_type": "code",
   "execution_count": 223,
   "metadata": {},
   "outputs": [
    {
     "data": {
      "text/html": [
       "<div>\n",
       "<style scoped>\n",
       "    .dataframe tbody tr th:only-of-type {\n",
       "        vertical-align: middle;\n",
       "    }\n",
       "\n",
       "    .dataframe tbody tr th {\n",
       "        vertical-align: top;\n",
       "    }\n",
       "\n",
       "    .dataframe thead th {\n",
       "        text-align: right;\n",
       "    }\n",
       "</style>\n",
       "<table border=\"1\" class=\"dataframe\">\n",
       "  <thead>\n",
       "    <tr style=\"text-align: right;\">\n",
       "      <th></th>\n",
       "      <th>X1</th>\n",
       "      <th>X2</th>\n",
       "      <th>X3</th>\n",
       "      <th>X4</th>\n",
       "      <th>X5</th>\n",
       "      <th>X6</th>\n",
       "      <th>X7</th>\n",
       "      <th>X8</th>\n",
       "      <th>X9</th>\n",
       "      <th>X10</th>\n",
       "      <th>...</th>\n",
       "      <th>X57</th>\n",
       "      <th>X58</th>\n",
       "      <th>X59</th>\n",
       "      <th>X60</th>\n",
       "      <th>X61</th>\n",
       "      <th>X62</th>\n",
       "      <th>X63</th>\n",
       "      <th>X64</th>\n",
       "      <th>Bankrupt</th>\n",
       "      <th>Id</th>\n",
       "    </tr>\n",
       "  </thead>\n",
       "  <tbody>\n",
       "    <tr>\n",
       "      <th>count</th>\n",
       "      <td>4818.000000</td>\n",
       "      <td>4818.000000</td>\n",
       "      <td>4818.000000</td>\n",
       "      <td>4818.000000</td>\n",
       "      <td>4.818000e+03</td>\n",
       "      <td>4818.000000</td>\n",
       "      <td>4818.000000</td>\n",
       "      <td>4818.000000</td>\n",
       "      <td>4818.000000</td>\n",
       "      <td>4818.000000</td>\n",
       "      <td>...</td>\n",
       "      <td>4818.000000</td>\n",
       "      <td>4818.000000</td>\n",
       "      <td>4818.000000</td>\n",
       "      <td>4.818000e+03</td>\n",
       "      <td>4818.000000</td>\n",
       "      <td>4818.000000</td>\n",
       "      <td>4818.000000</td>\n",
       "      <td>4818.000000</td>\n",
       "      <td>4818.000000</td>\n",
       "      <td>4818.000000</td>\n",
       "    </tr>\n",
       "    <tr>\n",
       "      <th>mean</th>\n",
       "      <td>-0.055232</td>\n",
       "      <td>0.533272</td>\n",
       "      <td>0.188992</td>\n",
       "      <td>4.978602</td>\n",
       "      <td>1.956441e+01</td>\n",
       "      <td>-0.070060</td>\n",
       "      <td>-0.042516</td>\n",
       "      <td>5.739985</td>\n",
       "      <td>1.579277</td>\n",
       "      <td>0.503606</td>\n",
       "      <td>...</td>\n",
       "      <td>0.022793</td>\n",
       "      <td>0.959585</td>\n",
       "      <td>0.273025</td>\n",
       "      <td>1.108795e+03</td>\n",
       "      <td>11.021303</td>\n",
       "      <td>177.494445</td>\n",
       "      <td>9.287631</td>\n",
       "      <td>38.557533</td>\n",
       "      <td>0.063927</td>\n",
       "      <td>3499.858032</td>\n",
       "    </tr>\n",
       "    <tr>\n",
       "      <th>std</th>\n",
       "      <td>6.705958</td>\n",
       "      <td>1.202660</td>\n",
       "      <td>1.282164</td>\n",
       "      <td>100.117705</td>\n",
       "      <td>2.382015e+04</td>\n",
       "      <td>7.776908</td>\n",
       "      <td>6.706577</td>\n",
       "      <td>109.348749</td>\n",
       "      <td>1.342723</td>\n",
       "      <td>4.043196</td>\n",
       "      <td>...</td>\n",
       "      <td>7.247517</td>\n",
       "      <td>0.932427</td>\n",
       "      <td>6.337285</td>\n",
       "      <td>6.942383e+04</td>\n",
       "      <td>43.766529</td>\n",
       "      <td>2279.713700</td>\n",
       "      <td>113.049493</td>\n",
       "      <td>583.617986</td>\n",
       "      <td>0.244648</td>\n",
       "      <td>1392.049260</td>\n",
       "    </tr>\n",
       "    <tr>\n",
       "      <th>min</th>\n",
       "      <td>-463.890000</td>\n",
       "      <td>0.000000</td>\n",
       "      <td>-72.067000</td>\n",
       "      <td>0.000000</td>\n",
       "      <td>-1.076400e+06</td>\n",
       "      <td>-463.890000</td>\n",
       "      <td>-463.890000</td>\n",
       "      <td>-3.735100</td>\n",
       "      <td>0.000191</td>\n",
       "      <td>-71.444000</td>\n",
       "      <td>...</td>\n",
       "      <td>-468.670000</td>\n",
       "      <td>-0.085920</td>\n",
       "      <td>-184.980000</td>\n",
       "      <td>-1.244000e+01</td>\n",
       "      <td>-0.092493</td>\n",
       "      <td>0.000000</td>\n",
       "      <td>0.000000</td>\n",
       "      <td>-3.726500</td>\n",
       "      <td>0.000000</td>\n",
       "      <td>1071.000000</td>\n",
       "    </tr>\n",
       "    <tr>\n",
       "      <th>25%</th>\n",
       "      <td>0.004042</td>\n",
       "      <td>0.254765</td>\n",
       "      <td>0.044978</td>\n",
       "      <td>1.101525</td>\n",
       "      <td>-4.290075e+01</td>\n",
       "      <td>0.000000</td>\n",
       "      <td>0.005977</td>\n",
       "      <td>0.482350</td>\n",
       "      <td>1.015600</td>\n",
       "      <td>0.319095</td>\n",
       "      <td>...</td>\n",
       "      <td>0.015582</td>\n",
       "      <td>0.876940</td>\n",
       "      <td>0.000000</td>\n",
       "      <td>5.456550e+00</td>\n",
       "      <td>4.236425</td>\n",
       "      <td>45.065750</td>\n",
       "      <td>3.077000</td>\n",
       "      <td>2.137425</td>\n",
       "      <td>0.000000</td>\n",
       "      <td>2296.250000</td>\n",
       "    </tr>\n",
       "    <tr>\n",
       "      <th>50%</th>\n",
       "      <td>0.046428</td>\n",
       "      <td>0.451610</td>\n",
       "      <td>0.218155</td>\n",
       "      <td>1.645450</td>\n",
       "      <td>4.932050e-01</td>\n",
       "      <td>0.000000</td>\n",
       "      <td>0.056653</td>\n",
       "      <td>1.154350</td>\n",
       "      <td>1.140500</td>\n",
       "      <td>0.522195</td>\n",
       "      <td>...</td>\n",
       "      <td>0.108860</td>\n",
       "      <td>0.950825</td>\n",
       "      <td>0.006365</td>\n",
       "      <td>9.449650e+00</td>\n",
       "      <td>6.181450</td>\n",
       "      <td>73.879500</td>\n",
       "      <td>4.939500</td>\n",
       "      <td>4.224000</td>\n",
       "      <td>0.000000</td>\n",
       "      <td>3500.500000</td>\n",
       "    </tr>\n",
       "    <tr>\n",
       "      <th>75%</th>\n",
       "      <td>0.116725</td>\n",
       "      <td>0.662140</td>\n",
       "      <td>0.420033</td>\n",
       "      <td>2.943000</td>\n",
       "      <td>4.978025e+01</td>\n",
       "      <td>0.110387</td>\n",
       "      <td>0.135972</td>\n",
       "      <td>2.814600</td>\n",
       "      <td>1.814050</td>\n",
       "      <td>0.721670</td>\n",
       "      <td>...</td>\n",
       "      <td>0.240200</td>\n",
       "      <td>0.990358</td>\n",
       "      <td>0.208242</td>\n",
       "      <td>1.968150e+01</td>\n",
       "      <td>9.342925</td>\n",
       "      <td>118.597500</td>\n",
       "      <td>8.097875</td>\n",
       "      <td>9.834275</td>\n",
       "      <td>0.000000</td>\n",
       "      <td>4704.750000</td>\n",
       "    </tr>\n",
       "    <tr>\n",
       "      <th>max</th>\n",
       "      <td>2.352300</td>\n",
       "      <td>72.416000</td>\n",
       "      <td>28.336000</td>\n",
       "      <td>6845.800000</td>\n",
       "      <td>1.250100e+06</td>\n",
       "      <td>203.150000</td>\n",
       "      <td>2.352300</td>\n",
       "      <td>6868.500000</td>\n",
       "      <td>37.807000</td>\n",
       "      <td>266.860000</td>\n",
       "      <td>...</td>\n",
       "      <td>87.981000</td>\n",
       "      <td>47.788000</td>\n",
       "      <td>308.150000</td>\n",
       "      <td>4.818700e+06</td>\n",
       "      <td>1308.500000</td>\n",
       "      <td>127450.000000</td>\n",
       "      <td>7641.300000</td>\n",
       "      <td>28999.000000</td>\n",
       "      <td>1.000000</td>\n",
       "      <td>5909.000000</td>\n",
       "    </tr>\n",
       "  </tbody>\n",
       "</table>\n",
       "<p>8 rows × 66 columns</p>\n",
       "</div>"
      ],
      "text/plain": [
       "                X1           X2           X3           X4            X5  \\\n",
       "count  4818.000000  4818.000000  4818.000000  4818.000000  4.818000e+03   \n",
       "mean     -0.055232     0.533272     0.188992     4.978602  1.956441e+01   \n",
       "std       6.705958     1.202660     1.282164   100.117705  2.382015e+04   \n",
       "min    -463.890000     0.000000   -72.067000     0.000000 -1.076400e+06   \n",
       "25%       0.004042     0.254765     0.044978     1.101525 -4.290075e+01   \n",
       "50%       0.046428     0.451610     0.218155     1.645450  4.932050e-01   \n",
       "75%       0.116725     0.662140     0.420033     2.943000  4.978025e+01   \n",
       "max       2.352300    72.416000    28.336000  6845.800000  1.250100e+06   \n",
       "\n",
       "                X6           X7           X8           X9          X10  ...  \\\n",
       "count  4818.000000  4818.000000  4818.000000  4818.000000  4818.000000  ...   \n",
       "mean     -0.070060    -0.042516     5.739985     1.579277     0.503606  ...   \n",
       "std       7.776908     6.706577   109.348749     1.342723     4.043196  ...   \n",
       "min    -463.890000  -463.890000    -3.735100     0.000191   -71.444000  ...   \n",
       "25%       0.000000     0.005977     0.482350     1.015600     0.319095  ...   \n",
       "50%       0.000000     0.056653     1.154350     1.140500     0.522195  ...   \n",
       "75%       0.110387     0.135972     2.814600     1.814050     0.721670  ...   \n",
       "max     203.150000     2.352300  6868.500000    37.807000   266.860000  ...   \n",
       "\n",
       "               X57          X58          X59           X60          X61  \\\n",
       "count  4818.000000  4818.000000  4818.000000  4.818000e+03  4818.000000   \n",
       "mean      0.022793     0.959585     0.273025  1.108795e+03    11.021303   \n",
       "std       7.247517     0.932427     6.337285  6.942383e+04    43.766529   \n",
       "min    -468.670000    -0.085920  -184.980000 -1.244000e+01    -0.092493   \n",
       "25%       0.015582     0.876940     0.000000  5.456550e+00     4.236425   \n",
       "50%       0.108860     0.950825     0.006365  9.449650e+00     6.181450   \n",
       "75%       0.240200     0.990358     0.208242  1.968150e+01     9.342925   \n",
       "max      87.981000    47.788000   308.150000  4.818700e+06  1308.500000   \n",
       "\n",
       "                 X62          X63           X64     Bankrupt           Id  \n",
       "count    4818.000000  4818.000000   4818.000000  4818.000000  4818.000000  \n",
       "mean      177.494445     9.287631     38.557533     0.063927  3499.858032  \n",
       "std      2279.713700   113.049493    583.617986     0.244648  1392.049260  \n",
       "min         0.000000     0.000000     -3.726500     0.000000  1071.000000  \n",
       "25%        45.065750     3.077000      2.137425     0.000000  2296.250000  \n",
       "50%        73.879500     4.939500      4.224000     0.000000  3500.500000  \n",
       "75%       118.597500     8.097875      9.834275     0.000000  4704.750000  \n",
       "max    127450.000000  7641.300000  28999.000000     1.000000  5909.000000  \n",
       "\n",
       "[8 rows x 66 columns]"
      ]
     },
     "execution_count": 223,
     "metadata": {},
     "output_type": "execute_result"
    }
   ],
   "source": [
    "data = data.applymap(pd.to_numeric, errors='coerce')\n",
    "holdout_data = holdout_data.applymap(pd.to_numeric, errors='coerce')\n",
    "data.replace('?', np.nan, inplace=True)\n",
    "data.fillna(data.mean(), inplace=True)\n",
    "holdout_data.replace('?', np.nan, inplace=True)\n",
    "holdout_data.fillna(holdout_data.mean(), inplace=True)\n",
    "df = data.values\n",
    "out = holdout_data.values\n",
    "\n",
    "data.describe()\n",
    "X=df[:, :-2]\n",
    "X = StandardScaler().fit_transform(X)\n",
    "y=df[:, -2]\n",
    "X_data=data.iloc[:,:-2]\n",
    "y_data=data.iloc[:, -2]"
   ]
  },
  {
   "cell_type": "markdown",
   "metadata": {},
   "source": [
    "Visualize data, and find that the data is imbalanced, and the features have high correlation."
   ]
  },
  {
   "cell_type": "code",
   "execution_count": 224,
   "metadata": {},
   "outputs": [
    {
     "data": {
      "text/plain": [
       "<AxesSubplot:>"
      ]
     },
     "execution_count": 224,
     "metadata": {},
     "output_type": "execute_result"
    },
    {
     "data": {
      "text/plain": [
       "Text(0.5, 1.0, 'Not Bankrupt(0) vs Bankrupt(1)')"
      ]
     },
     "execution_count": 224,
     "metadata": {},
     "output_type": "execute_result"
    },
    {
     "data": {
      "image/png": "[encoded data removed]",
      "text/plain": [
       "<Figure size 432x288 with 1 Axes>"
      ]
     },
     "metadata": {
      "needs_background": "light"
     },
     "output_type": "display_data"
    }
   ],
   "source": [
    "import seaborn as sns\n",
    "y_data.value_counts().plot(kind='bar')\n",
    "sns.set_style('whitegrid')\n",
    "sns.set_palette('bwr')\n",
    "plt.title('Not Bankrupt(0) vs Bankrupt(1)')\n",
    "plt.show()"
   ]
  },
  {
   "cell_type": "code",
   "execution_count": 225,
   "metadata": {},
   "outputs": [
    {
     "data": {
      "text/plain": [
       "(array([[0., 0., 0., ..., 0., 0., 0.],\n",
       "        [0., 0., 0., ..., 0., 0., 0.],\n",
       "        [0., 0., 0., ..., 0., 0., 0.],\n",
       "        ...,\n",
       "        [0., 0., 0., ..., 0., 0., 0.],\n",
       "        [0., 0., 0., ..., 0., 0., 0.],\n",
       "        [0., 0., 0., ..., 0., 0., 0.]]),\n",
       " array([-1118500.,  -821640.,  -524780.,  -227920.,    68940.,   365800.,\n",
       "          662660.,   959520.,  1256380.,  1553240.,  1850100.,  2146960.,\n",
       "         2443820.,  2740680.,  3037540.,  3334400.,  3631260.,  3928120.,\n",
       "         4224980.,  4521840.,  4818700.]),\n",
       " <a list of 66 BarContainer objects>)"
      ]
     },
     "execution_count": 225,
     "metadata": {},
     "output_type": "execute_result"
    },
    {
     "data": {
      "text/plain": [
       "Text(0.5, 0, 'bankrupt')"
      ]
     },
     "execution_count": 225,
     "metadata": {},
     "output_type": "execute_result"
    },
    {
     "data": {
      "text/plain": [
       "Text(0.5, 1.0, 'Histogram of Data')"
      ]
     },
     "execution_count": 225,
     "metadata": {},
     "output_type": "execute_result"
    },
    {
     "data": {
      "image/png": "[encoded data removed]",
      "text/plain": [
       "<Figure size 432x288 with 1 Axes>"
      ]
     },
     "metadata": {},
     "output_type": "display_data"
    }
   ],
   "source": [
    "plt.hist(data, bins=20, alpha=0.5)\n",
    "plt.xlabel('bankrupt')\n",
    "plt.title('Histogram of Data')\n",
    "plt.show()"
   ]
  },
  {
   "cell_type": "code",
   "execution_count": 226,
   "metadata": {},
   "outputs": [
    {
     "data": {
      "text/plain": [
       "<AxesSubplot:>"
      ]
     },
     "execution_count": 226,
     "metadata": {},
     "output_type": "execute_result"
    },
    {
     "data": {
      "image/png": "[encoded data removed]",
      "text/plain": [
       "<Figure size 432x288 with 2 Axes>"
      ]
     },
     "metadata": {},
     "output_type": "display_data"
    }
   ],
   "source": [
    "corr_matrix = X_data.corr()\n",
    "sns.heatmap(corr_matrix, cmap='coolwarm')\n",
    "plt.show()"
   ]
  },
  {
   "cell_type": "markdown",
   "metadata": {},
   "source": [
    "Here I use randomoversampler to do random oversampling, and use PCA to lower the dimenision since we have dataset with features having high correlation with each other."
   ]
  },
  {
   "cell_type": "code",
   "execution_count": 227,
   "metadata": {},
   "outputs": [],
   "source": [
    "from imblearn.over_sampling import RandomOverSampler\n",
    "# Random oversampling\n",
    "# ros = RandomOverSampler(random_state=42)\n",
    "# X_ros, y_ros = ros.fit_resample(X, y)"
   ]
  },
  {
   "cell_type": "code",
   "execution_count": 228,
   "metadata": {},
   "outputs": [],
   "source": [
    "from imblearn.over_sampling import SMOTE\n",
    "\n",
    "smote = SMOTE(random_state=42)\n",
    "X_ros, y_ros = smote.fit_resample(X, y)\n",
    "# X_ros, y_ros = X, y"
   ]
  },
  {
   "cell_type": "code",
   "execution_count": 229,
   "metadata": {},
   "outputs": [
    {
     "data": {
      "text/plain": [
       "array([[-0.34702704, -0.5294126 , -0.12070429],\n",
       "       [-0.21829935, -0.92479567, -0.042012  ],\n",
       "       [-0.33985283, -0.5397412 , -0.10783738],\n",
       "       ...,\n",
       "       [-0.33001267, -0.63287133, -0.10503977],\n",
       "       [-0.64097052,  5.50196878,  0.01719125],\n",
       "       [-0.4842435 ,  2.82453162, -0.05874599]])"
      ]
     },
     "execution_count": 229,
     "metadata": {},
     "output_type": "execute_result"
    },
    {
     "data": {
      "text/plain": [
       "array([[-0.34702704, -0.5294126 , -0.12070446, -0.21890153],\n",
       "       [-0.21829935, -0.92479566, -0.04201228, -0.08630411],\n",
       "       [-0.33985283, -0.5397412 , -0.10783744, -0.16917529],\n",
       "       ...,\n",
       "       [-0.33001267, -0.63287132, -0.10503991, -0.14392463],\n",
       "       [-0.64097052,  5.50196878,  0.01719121, -0.33927061],\n",
       "       [-0.4842435 ,  2.82453162, -0.05874571,  0.33723789]])"
      ]
     },
     "execution_count": 229,
     "metadata": {},
     "output_type": "execute_result"
    },
    {
     "data": {
      "text/plain": [
       "array([[-0.34702704, -0.5294126 , -0.12070433, -0.21890147, -0.09078057],\n",
       "       [-0.21829935, -0.92479567, -0.04201203, -0.08630399, -0.11168285],\n",
       "       [-0.33985283, -0.5397412 , -0.10783738, -0.16917527, -0.09423042],\n",
       "       ...,\n",
       "       [-0.33001267, -0.63287133, -0.10503983, -0.14392461, -0.0983891 ],\n",
       "       [-0.64097052,  5.50196878,  0.01719124, -0.33927061, -0.11634374],\n",
       "       [-0.4842435 ,  2.82453162, -0.0587459 ,  0.33723779, -0.10826753]])"
      ]
     },
     "execution_count": 229,
     "metadata": {},
     "output_type": "execute_result"
    },
    {
     "data": {
      "text/plain": [
       "array([[-0.34702704, -0.5294126 , -0.12070435, -0.21890146, -0.09078041,\n",
       "        -0.16843581],\n",
       "       [-0.21829935, -0.92479567, -0.04201212, -0.08630402, -0.1116825 ,\n",
       "        -0.02323965],\n",
       "       [-0.33985283, -0.5397412 , -0.10783739, -0.16917527, -0.09423032,\n",
       "         0.0285762 ],\n",
       "       ...,\n",
       "       [-0.33001267, -0.63287133, -0.10503984, -0.1439246 , -0.09838902,\n",
       "        -0.04076541],\n",
       "       [-0.64097052,  5.50196878,  0.01719122, -0.33927061, -0.1163436 ,\n",
       "         0.22480198],\n",
       "       [-0.4842435 ,  2.82453162, -0.05874586,  0.33723778, -0.10826759,\n",
       "         0.31957852]])"
      ]
     },
     "execution_count": 229,
     "metadata": {},
     "output_type": "execute_result"
    },
    {
     "data": {
      "text/plain": [
       "array([[-0.34702704, -0.52941245, -0.12068359, ..., -0.09082913,\n",
       "        -0.16850317, -0.05063857],\n",
       "       [-0.21829935, -0.92479554, -0.04198192, ..., -0.11172567,\n",
       "        -0.02317936, -0.16056877],\n",
       "       [-0.33985283, -0.53974118, -0.10782685, ..., -0.09426399,\n",
       "         0.0285275 , -0.12410415],\n",
       "       ...,\n",
       "       [-0.33001267, -0.6328712 , -0.10502834, ..., -0.09841862,\n",
       "        -0.04073099, -0.11927758],\n",
       "       [-0.64097052,  5.50196872,  0.01718982, ..., -0.11633627,\n",
       "         0.22484871,  0.0143288 ],\n",
       "       [-0.4842435 ,  2.82453104, -0.05877616, ..., -0.10821046,\n",
       "         0.31964974, -0.22565483]])"
      ]
     },
     "execution_count": 229,
     "metadata": {},
     "output_type": "execute_result"
    },
    {
     "data": {
      "text/plain": [
       "array([[-0.34702704, -0.52941328, -0.1206977 , ..., -0.16850781,\n",
       "        -0.05143868, -0.98855023],\n",
       "       [-0.21829934, -0.92479696, -0.04201347, ..., -0.02361318,\n",
       "        -0.16170055, -1.05578727],\n",
       "       [-0.33985283, -0.53974139, -0.10783462, ...,  0.02849446,\n",
       "        -0.12425584, -0.83466731],\n",
       "       ...,\n",
       "       [-0.33001267, -0.63287163, -0.10503816, ..., -0.04087383,\n",
       "        -0.11955108, -0.91356111],\n",
       "       [-0.64097052,  5.50196884,  0.01718746, ...,  0.2246079 ,\n",
       "         0.01491126,  1.42681787],\n",
       "       [-0.4842435 ,  2.8245332 , -0.05875547, ...,  0.31960156,\n",
       "        -0.22320683,  0.67079932]])"
      ]
     },
     "execution_count": 229,
     "metadata": {},
     "output_type": "execute_result"
    },
    {
     "data": {
      "text/plain": [
       "array([[-0.34702704, -0.52941306, -0.12070343, ..., -0.0518637 ,\n",
       "        -0.98705833, -0.11310071],\n",
       "       [-0.21829935, -0.92479574, -0.04201494, ..., -0.1624393 ,\n",
       "        -1.05525658,  0.16568577],\n",
       "       [-0.33985283, -0.53974145, -0.10783528, ..., -0.12458961,\n",
       "        -0.83432768,  0.02689917],\n",
       "       ...,\n",
       "       [-0.33001267, -0.63287144, -0.10504004, ..., -0.11992719,\n",
       "        -0.9132293 ,  0.0747996 ],\n",
       "       [-0.64097052,  5.50196888,  0.01719085, ...,  0.0144108 ,\n",
       "         1.42543029,  0.1032307 ],\n",
       "       [-0.4842435 ,  2.82453211, -0.05874651, ..., -0.22310087,\n",
       "         0.66871283,  0.98091563]])"
      ]
     },
     "execution_count": 229,
     "metadata": {},
     "output_type": "execute_result"
    },
    {
     "data": {
      "text/plain": [
       "array([[-0.34702704, -0.5294128 , -0.12069869, ..., -0.98769512,\n",
       "        -0.11281608,  0.05917408],\n",
       "       [-0.21829935, -0.9247961 , -0.04200402, ..., -1.05534169,\n",
       "         0.16546695,  0.12846864],\n",
       "       [-0.33985283, -0.53974118, -0.10783424, ..., -0.83441427,\n",
       "         0.02719744, -0.07597102],\n",
       "       ...,\n",
       "       [-0.33001267, -0.6328715 , -0.10503569, ..., -0.91324374,\n",
       "         0.07529608,  0.0420146 ],\n",
       "       [-0.64097052,  5.50196873,  0.01719207, ...,  1.42586675,\n",
       "         0.10309382,  0.0128182 ],\n",
       "       [-0.4842435 ,  2.82453172, -0.05875035, ...,  0.66932676,\n",
       "         0.97972037,  0.08135583]])"
      ]
     },
     "execution_count": 229,
     "metadata": {},
     "output_type": "execute_result"
    },
    {
     "data": {
      "text/plain": [
       "array([[-3.47027039e-01, -5.29412685e-01, -1.20699544e-01, ...,\n",
       "        -1.11517107e-01,  5.93991635e-02, -1.68924775e-02],\n",
       "       [-2.18299348e-01, -9.24795420e-01, -4.20147583e-02, ...,\n",
       "         1.65733838e-01,  1.32461064e-01, -2.24899050e-02],\n",
       "       [-3.39852831e-01, -5.39741158e-01, -1.07835950e-01, ...,\n",
       "         2.81278920e-02, -7.39284067e-02, -1.91463281e-02],\n",
       "       ...,\n",
       "       [-3.30012669e-01, -6.32871345e-01, -1.05037204e-01, ...,\n",
       "         7.58789336e-02,  4.13271352e-02, -1.74067240e-02],\n",
       "       [-6.40970518e-01,  5.50196897e+00,  1.71887731e-02, ...,\n",
       "         1.03096969e-01,  1.55479797e-02, -3.55331324e-03],\n",
       "       [-4.84243502e-01,  2.82453167e+00, -5.87494243e-02, ...,\n",
       "         9.78990404e-01,  8.03713337e-02, -2.32655401e-03]])"
      ]
     },
     "execution_count": 229,
     "metadata": {},
     "output_type": "execute_result"
    },
    {
     "data": {
      "text/plain": [
       "array([[-3.47027040e-01, -5.29413023e-01, -1.20703289e-01, ...,\n",
       "         6.69069543e-02, -1.65947970e-02, -1.44337700e-01],\n",
       "       [-2.18299348e-01, -9.24795776e-01, -4.20119396e-02, ...,\n",
       "         1.33443195e-01, -1.83538595e-02, -1.87393272e-01],\n",
       "       [-3.39852832e-01, -5.39741076e-01, -1.07837891e-01, ...,\n",
       "        -7.26311561e-02, -1.85338591e-02, -9.32771992e-02],\n",
       "       ...,\n",
       "       [-3.30012669e-01, -6.32871764e-01, -1.05038738e-01, ...,\n",
       "         4.65824211e-02, -1.66394255e-02, -1.12236824e-01],\n",
       "       [-6.40970518e-01,  5.50196889e+00,  1.71907413e-02, ...,\n",
       "         1.23675886e-02, -2.45102279e-03, -5.54696248e-02],\n",
       "       [-4.84243500e-01,  2.82453250e+00, -5.87482612e-02, ...,\n",
       "         7.08622932e-02,  1.52514649e-04,  2.27529402e-02]])"
      ]
     },
     "execution_count": 229,
     "metadata": {},
     "output_type": "execute_result"
    },
    {
     "data": {
      "text/plain": [
       "array([[-3.47027039e-01, -5.29412905e-01, -1.20701150e-01, ...,\n",
       "        -1.72574215e-02, -1.50999829e-01,  2.69284207e-02],\n",
       "       [-2.18299348e-01, -9.24795711e-01, -4.20113210e-02, ...,\n",
       "        -1.89346969e-02, -1.88736346e-01,  6.86057322e-02],\n",
       "       [-3.39852831e-01, -5.39741326e-01, -1.07836291e-01, ...,\n",
       "        -1.94363533e-02, -9.25567738e-02, -8.23755325e-02],\n",
       "       ...,\n",
       "       [-3.30012669e-01, -6.32871403e-01, -1.05039065e-01, ...,\n",
       "        -1.83617355e-02, -1.17676237e-01,  1.42789938e-02],\n",
       "       [-6.40970518e-01,  5.50196887e+00,  1.71897661e-02, ...,\n",
       "        -3.08284205e-03, -5.37507084e-02, -2.10783550e-01],\n",
       "       [-4.84243501e-01,  2.82453189e+00, -5.87491309e-02, ...,\n",
       "         3.84240753e-04,  3.67187876e-02, -2.11816825e-01]])"
      ]
     },
     "execution_count": 229,
     "metadata": {},
     "output_type": "execute_result"
    },
    {
     "data": {
      "text/plain": [
       "array([[-0.34702704, -0.52941231, -0.12070183, ..., -0.15193617,\n",
       "         0.03774148, -0.21403933],\n",
       "       [-0.21829935, -0.92479561, -0.04201121, ..., -0.18931828,\n",
       "         0.07235993, -0.28236281],\n",
       "       [-0.33985283, -0.53974119, -0.10783757, ..., -0.09407759,\n",
       "        -0.07816691, -0.10375777],\n",
       "       ...,\n",
       "       [-0.33001267, -0.63287122, -0.10503855, ..., -0.11719106,\n",
       "         0.015456  , -0.16100972],\n",
       "       [-0.64097052,  5.50196859,  0.01719042, ..., -0.05050687,\n",
       "        -0.21466591,  0.01910377],\n",
       "       [-0.4842435 ,  2.82453114, -0.05875075, ...,  0.03520002,\n",
       "        -0.22296595,  0.25793881]])"
      ]
     },
     "execution_count": 229,
     "metadata": {},
     "output_type": "execute_result"
    },
    {
     "data": {
      "text/plain": [
       "array([[-0.34702704, -0.52941272, -0.1207061 , ...,  0.04004684,\n",
       "        -0.25046485, -0.03870925],\n",
       "       [-0.21829935, -0.92479566, -0.04201228, ...,  0.07328083,\n",
       "        -0.30732665, -0.07216938],\n",
       "       [-0.33985283, -0.53974122, -0.10783765, ..., -0.07711392,\n",
       "        -0.116868  , -0.02025658],\n",
       "       ...,\n",
       "       [-0.33001267, -0.63287131, -0.10503967, ...,  0.01671997,\n",
       "        -0.17386138, -0.04966459],\n",
       "       [-0.64097052,  5.501969  ,  0.0171947 , ..., -0.21498875,\n",
       "         0.03393765, -0.10735194],\n",
       "       [-0.4842435 ,  2.82453169, -0.05874495, ..., -0.22641807,\n",
       "         0.27595116, -0.01687161]])"
      ]
     },
     "execution_count": 229,
     "metadata": {},
     "output_type": "execute_result"
    },
    {
     "data": {
      "text/plain": [
       "array([[-0.34702704, -0.5294126 , -0.12070438, ..., -0.21808118,\n",
       "        -0.09035346,  0.32674327],\n",
       "       [-0.21829935, -0.92479567, -0.04201212, ..., -0.2818539 ,\n",
       "        -0.1259424 ,  0.55092647],\n",
       "       [-0.33985283, -0.5397412 , -0.10783738, ..., -0.10537332,\n",
       "        -0.04312399,  0.13349615],\n",
       "       ...,\n",
       "       [-0.33001267, -0.63287133, -0.10503982, ..., -0.16157995,\n",
       "        -0.07906992,  0.20920083],\n",
       "       [-0.64097052,  5.50196879,  0.01719146, ...,  0.02402618,\n",
       "        -0.09048379,  0.05392862],\n",
       "       [-0.4842435 ,  2.82453162, -0.0587459 , ...,  0.26066704,\n",
       "         0.03700497, -0.56553487]])"
      ]
     },
     "execution_count": 229,
     "metadata": {},
     "output_type": "execute_result"
    },
    {
     "data": {
      "text/plain": [
       "array([[-3.47027039e-01, -5.29412606e-01, -1.20704394e-01, ...,\n",
       "        -9.02279498e-02,  3.26701502e-01, -8.34649662e-04],\n",
       "       [-2.18299348e-01, -9.24795666e-01, -4.20120659e-02, ...,\n",
       "        -1.26051019e-01,  5.50792993e-01,  1.01674318e-01],\n",
       "       [-3.39852831e-01, -5.39741195e-01, -1.07837378e-01, ...,\n",
       "        -4.32977141e-02,  1.34041453e-01,  1.41089673e-02],\n",
       "       ...,\n",
       "       [-3.30012669e-01, -6.32871328e-01, -1.05039833e-01, ...,\n",
       "        -7.90832534e-02,  2.10089628e-01, -1.99171470e-02],\n",
       "       [-6.40970518e-01,  5.50196880e+00,  1.71911929e-02, ...,\n",
       "        -9.10700146e-02,  5.74238947e-02, -1.05169903e-02],\n",
       "       [-4.84243501e-01,  2.82453162e+00, -5.87458606e-02, ...,\n",
       "         3.72386573e-02, -5.66191624e-01, -4.31142129e-02]])"
      ]
     },
     "execution_count": 229,
     "metadata": {},
     "output_type": "execute_result"
    },
    {
     "data": {
      "text/plain": [
       "array([[-3.47027039e-01, -5.29412598e-01, -1.20704302e-01, ...,\n",
       "         3.26804753e-01, -7.29004738e-04,  1.48346853e-01],\n",
       "       [-2.18299348e-01, -9.24795672e-01, -4.20121656e-02, ...,\n",
       "         5.50652842e-01,  1.01528754e-01, -2.18545862e-02],\n",
       "       [-3.39852831e-01, -5.39741206e-01, -1.07837437e-01, ...,\n",
       "         1.33831862e-01,  1.39543322e-02,  2.42385556e-02],\n",
       "       ...,\n",
       "       [-3.30012669e-01, -6.32871329e-01, -1.05039822e-01, ...,\n",
       "         2.09873646e-01, -2.02450197e-02,  1.14161925e-01],\n",
       "       [-6.40970518e-01,  5.50196877e+00,  1.71910619e-02, ...,\n",
       "         5.73735256e-02, -1.13723765e-02, -3.01687714e-02],\n",
       "       [-4.84243501e-01,  2.82453163e+00, -5.87457533e-02, ...,\n",
       "        -5.66378307e-01, -4.30119172e-02, -3.08177196e-01]])"
      ]
     },
     "execution_count": 229,
     "metadata": {},
     "output_type": "execute_result"
    },
    {
     "data": {
      "text/plain": [
       "array([[-3.47027039e-01, -5.29412603e-01, -1.20704364e-01, ...,\n",
       "        -1.05266683e-03,  1.48216539e-01, -6.70936194e-02],\n",
       "       [-2.18299348e-01, -9.24795668e-01, -4.20121106e-02, ...,\n",
       "         1.01671931e-01, -2.15955920e-02, -9.14932090e-02],\n",
       "       [-3.39852831e-01, -5.39741201e-01, -1.07837386e-01, ...,\n",
       "         1.45001333e-02,  2.42033251e-02, -6.79165429e-03],\n",
       "       ...,\n",
       "       [-3.30012669e-01, -6.32871328e-01, -1.05039841e-01, ...,\n",
       "        -1.99282083e-02,  1.13908985e-01, -7.00843757e-02],\n",
       "       [-6.40970518e-01,  5.50196879e+00,  1.71912296e-02, ...,\n",
       "        -9.43611290e-03, -3.01354897e-02, -2.18877639e-02],\n",
       "       [-4.84243501e-01,  2.82453162e+00, -5.87458433e-02, ...,\n",
       "        -4.32656897e-02, -3.08522604e-01,  1.26890118e-01]])"
      ]
     },
     "execution_count": 229,
     "metadata": {},
     "output_type": "execute_result"
    },
    {
     "data": {
      "text/plain": [
       "array([[-0.34702704, -0.5294126 , -0.12070436, ...,  0.14795203,\n",
       "        -0.06804614, -0.0224906 ],\n",
       "       [-0.21829935, -0.92479567, -0.04201211, ..., -0.02144196,\n",
       "        -0.09090399, -0.01682625],\n",
       "       [-0.33985283, -0.5397412 , -0.10783739, ...,  0.02441759,\n",
       "        -0.00588508, -0.02775384],\n",
       "       ...,\n",
       "       [-0.33001267, -0.63287133, -0.10503984, ...,  0.11385383,\n",
       "        -0.07024068,  0.01634468],\n",
       "       [-0.64097052,  5.50196878,  0.01719122, ..., -0.02962179,\n",
       "        -0.01929744, -0.00618197],\n",
       "       [-0.4842435 ,  2.82453162, -0.05874584, ..., -0.30866929,\n",
       "         0.12568747, -0.02955657]])"
      ]
     },
     "execution_count": 229,
     "metadata": {},
     "output_type": "execute_result"
    },
    {
     "data": {
      "text/plain": [
       "array([[-3.47027039e-01, -5.29412602e-01, -1.20704354e-01, ...,\n",
       "        -6.81250200e-02, -2.25037149e-02, -7.80694623e-03],\n",
       "       [-2.18299348e-01, -9.24795669e-01, -4.20121174e-02, ...,\n",
       "        -9.08159350e-02, -1.68060955e-02, -7.24264828e-03],\n",
       "       [-3.39852831e-01, -5.39741201e-01, -1.07837390e-01, ...,\n",
       "        -5.91658840e-03, -2.77666992e-02, -1.39341159e-02],\n",
       "       ...,\n",
       "       [-3.30012669e-01, -6.32871328e-01, -1.05039838e-01, ...,\n",
       "        -7.02689038e-02,  1.63381287e-02, -4.28335323e-03],\n",
       "       [-6.40970518e-01,  5.50196878e+00,  1.71912283e-02, ...,\n",
       "        -1.95031105e-02, -6.21302884e-03, -1.01132832e-02],\n",
       "       [-4.84243501e-01,  2.82453163e+00, -5.87458511e-02, ...,\n",
       "         1.25584260e-01, -2.96633329e-02, -1.35773460e-02]])"
      ]
     },
     "execution_count": 229,
     "metadata": {},
     "output_type": "execute_result"
    },
    {
     "data": {
      "text/plain": [
       "array([[-3.47027039e-01, -5.29412602e-01, -1.20704360e-01, ...,\n",
       "        -2.24923029e-02, -7.78078085e-03, -3.73304612e-02],\n",
       "       [-2.18299348e-01, -9.24795669e-01, -4.20121120e-02, ...,\n",
       "        -1.68246908e-02, -7.28451446e-03, -5.73971238e-02],\n",
       "       [-3.39852831e-01, -5.39741201e-01, -1.07837391e-01, ...,\n",
       "        -2.77559695e-02, -1.39115836e-02, -1.14397481e-02],\n",
       "       ...,\n",
       "       [-3.30012669e-01, -6.32871328e-01, -1.05039840e-01, ...,\n",
       "         1.63425226e-02, -4.27524740e-03, -4.49003419e-02],\n",
       "       [-6.40970518e-01,  5.50196878e+00,  1.71912129e-02, ...,\n",
       "        -6.17272489e-03, -1.00345373e-02, -1.25742087e-02],\n",
       "       [-4.84243501e-01,  2.82453162e+00, -5.87458411e-02, ...,\n",
       "        -2.95536477e-02, -1.34182032e-02,  4.90716473e-02]])"
      ]
     },
     "execution_count": 229,
     "metadata": {},
     "output_type": "execute_result"
    },
    {
     "data": {
      "text/plain": [
       "array([[-3.47027039e-01, -5.29412602e-01, -1.20704358e-01, ...,\n",
       "        -7.77570734e-03, -3.73413459e-02, -2.96149554e-01],\n",
       "       [-2.18299348e-01, -9.24795669e-01, -4.20121138e-02, ...,\n",
       "        -7.28875043e-03, -5.73805444e-02, -8.09123148e-03],\n",
       "       [-3.39852831e-01, -5.39741201e-01, -1.07837391e-01, ...,\n",
       "        -1.39096772e-02, -1.14430764e-02, -1.57132462e-01],\n",
       "       ...,\n",
       "       [-3.30012669e-01, -6.32871328e-01, -1.05039840e-01, ...,\n",
       "        -4.27265204e-03, -4.48989031e-02, -8.53389707e-02],\n",
       "       [-6.40970518e-01,  5.50196878e+00,  1.71912178e-02, ...,\n",
       "        -1.00192763e-02, -1.26009981e-02,  8.03682035e-02],\n",
       "       [-4.84243501e-01,  2.82453162e+00, -5.87458430e-02, ...,\n",
       "        -1.34201195e-02,  4.90485278e-02,  3.43076783e-01]])"
      ]
     },
     "execution_count": 229,
     "metadata": {},
     "output_type": "execute_result"
    },
    {
     "data": {
      "text/plain": [
       "array([[-0.34702704, -0.5294126 , -0.12070436, ..., -0.03734635,\n",
       "        -0.29614584,  0.07262133],\n",
       "       [-0.21829935, -0.92479567, -0.04201211, ..., -0.05738119,\n",
       "        -0.00808777,  0.03595071],\n",
       "       [-0.33985283, -0.5397412 , -0.10783739, ..., -0.01144413,\n",
       "        -0.15713491,  0.00562629],\n",
       "       ...,\n",
       "       [-0.33001267, -0.63287133, -0.10503984, ..., -0.04490574,\n",
       "        -0.08533316,  0.04580044],\n",
       "       [-0.64097052,  5.50196878,  0.01719122, ..., -0.01262596,\n",
       "         0.0804111 , -0.05184026],\n",
       "       [-0.4842435 ,  2.82453162, -0.05874584, ...,  0.04908866,\n",
       "         0.34300805, -0.03876959]])"
      ]
     },
     "execution_count": 229,
     "metadata": {},
     "output_type": "execute_result"
    },
    {
     "data": {
      "text/plain": [
       "array([[-3.47027039e-01, -5.29412602e-01, -1.20704358e-01, ...,\n",
       "        -2.96146048e-01,  7.26216401e-02, -6.39566655e-04],\n",
       "       [-2.18299348e-01, -9.24795669e-01, -4.20121137e-02, ...,\n",
       "        -8.08863626e-03,  3.59509194e-02,  2.39884696e-02],\n",
       "       [-3.39852831e-01, -5.39741201e-01, -1.07837391e-01, ...,\n",
       "        -1.57137026e-01,  5.62803252e-03,  1.09016126e-01],\n",
       "       ...,\n",
       "       [-3.30012669e-01, -6.32871328e-01, -1.05039840e-01, ...,\n",
       "        -8.53363825e-02,  4.58032596e-02, -1.60490921e-02],\n",
       "       [-6.40970518e-01,  5.50196878e+00,  1.71912179e-02, ...,\n",
       "         8.03793366e-02, -5.18102674e-02, -2.81283940e-02],\n",
       "       [-4.84243501e-01,  2.82453162e+00, -5.87458431e-02, ...,\n",
       "         3.43031547e-01, -3.87934314e-02,  1.43002363e-01]])"
      ]
     },
     "execution_count": 229,
     "metadata": {},
     "output_type": "execute_result"
    },
    {
     "data": {
      "text/plain": [
       "array([[-3.47027039e-01, -5.29412602e-01, -1.20704358e-01, ...,\n",
       "         7.26211083e-02, -6.38582493e-04,  3.91950999e-02],\n",
       "       [-2.18299348e-01, -9.24795669e-01, -4.20121138e-02, ...,\n",
       "         3.59512189e-02,  2.39874451e-02, -7.32905196e-03],\n",
       "       [-3.39852831e-01, -5.39741201e-01, -1.07837391e-01, ...,\n",
       "         5.62846936e-03,  1.09014579e-01,  1.54242234e-02],\n",
       "       ...,\n",
       "       [-3.30012669e-01, -6.32871328e-01, -1.05039840e-01, ...,\n",
       "         4.58032344e-02, -1.60498856e-02, -3.28578948e-02],\n",
       "       [-6.40970518e-01,  5.50196878e+00,  1.71912179e-02, ...,\n",
       "        -5.18053327e-02, -2.81221774e-02, -1.83692921e-01],\n",
       "       [-4.84243501e-01,  2.82453162e+00, -5.87458431e-02, ...,\n",
       "        -3.87936826e-02,  1.43001092e-01,  5.66259229e-03]])"
      ]
     },
     "execution_count": 229,
     "metadata": {},
     "output_type": "execute_result"
    },
    {
     "data": {
      "text/plain": [
       "array([[-3.47027039e-01, -5.29412602e-01, -1.20704358e-01, ...,\n",
       "        -6.38524506e-04,  3.91951788e-02,  6.93822658e-03],\n",
       "       [-2.18299348e-01, -9.24795669e-01, -4.20121138e-02, ...,\n",
       "         2.39873999e-02, -7.32881563e-03, -8.65998326e-02],\n",
       "       [-3.39852831e-01, -5.39741201e-01, -1.07837391e-01, ...,\n",
       "         1.09014485e-01,  1.54245020e-02,  9.57866273e-03],\n",
       "       ...,\n",
       "       [-3.30012669e-01, -6.32871328e-01, -1.05039840e-01, ...,\n",
       "        -1.60499936e-02, -3.28573387e-02, -2.55545153e-03],\n",
       "       [-6.40970518e-01,  5.50196878e+00,  1.71912180e-02, ...,\n",
       "        -2.81218195e-02, -1.83710800e-01,  1.18005887e-01],\n",
       "       [-4.84243501e-01,  2.82453162e+00, -5.87458431e-02, ...,\n",
       "         1.43000643e-01,  5.66932538e-03, -9.37292924e-03]])"
      ]
     },
     "execution_count": 229,
     "metadata": {},
     "output_type": "execute_result"
    },
    {
     "data": {
      "text/plain": [
       "array([[-3.47027039e-01, -5.29412602e-01, -1.20704358e-01, ...,\n",
       "         3.91970659e-02,  6.93834593e-03,  5.42029537e-02],\n",
       "       [-2.18299348e-01, -9.24795669e-01, -4.20121137e-02, ...,\n",
       "        -7.32751547e-03, -8.65992152e-02, -5.09831805e-02],\n",
       "       [-3.39852831e-01, -5.39741201e-01, -1.07837391e-01, ...,\n",
       "         1.54236122e-02,  9.57926357e-03, -2.72250951e-02],\n",
       "       ...,\n",
       "       [-3.30012669e-01, -6.32871328e-01, -1.05039840e-01, ...,\n",
       "        -3.28562457e-02, -2.55427391e-03,  3.55598628e-03],\n",
       "       [-6.40970518e-01,  5.50196878e+00,  1.71912179e-02, ...,\n",
       "        -1.83705439e-01,  1.17989000e-01, -1.99847235e-02],\n",
       "       [-4.84243501e-01,  2.82453162e+00, -5.87458431e-02, ...,\n",
       "         5.66717301e-03, -9.36153606e-03,  4.37570727e-02]])"
      ]
     },
     "execution_count": 229,
     "metadata": {},
     "output_type": "execute_result"
    },
    {
     "data": {
      "text/plain": [
       "array([[-3.47027039e-01, -5.29412602e-01, -1.20704358e-01, ...,\n",
       "         6.93790740e-03,  5.42090325e-02, -4.13732173e-02],\n",
       "       [-2.18299348e-01, -9.24795669e-01, -4.20121138e-02, ...,\n",
       "        -8.65990887e-02, -5.09727753e-02,  5.16096761e-02],\n",
       "       [-3.39852831e-01, -5.39741201e-01, -1.07837391e-01, ...,\n",
       "         9.57970907e-03, -2.72242248e-02,  3.18592056e-02],\n",
       "       ...,\n",
       "       [-3.30012669e-01, -6.32871328e-01, -1.05039840e-01, ...,\n",
       "        -2.55393253e-03,  3.56838760e-03, -2.51509646e-02],\n",
       "       [-6.40970518e-01,  5.50196878e+00,  1.71912179e-02, ...,\n",
       "         1.17989030e-01, -1.99811449e-02,  8.99564032e-02],\n",
       "       [-4.84243501e-01,  2.82453162e+00, -5.87458431e-02, ...,\n",
       "        -9.36182091e-03,  4.37626895e-02, -7.72979688e-02]])"
      ]
     },
     "execution_count": 229,
     "metadata": {},
     "output_type": "execute_result"
    },
    {
     "data": {
      "text/plain": [
       "<Figure size 720x720 with 0 Axes>"
      ]
     },
     "execution_count": 229,
     "metadata": {},
     "output_type": "execute_result"
    },
    {
     "data": {
      "text/plain": [
       "[<matplotlib.lines.Line2D at 0x2b4d1d68d30>]"
      ]
     },
     "execution_count": 229,
     "metadata": {},
     "output_type": "execute_result"
    },
    {
     "data": {
      "text/plain": [
       "Text(0.5, 0, 'Number of components')"
      ]
     },
     "execution_count": 229,
     "metadata": {},
     "output_type": "execute_result"
    },
    {
     "data": {
      "text/plain": [
       "Text(0, 0.5, 'Total explained variance')"
      ]
     },
     "execution_count": 229,
     "metadata": {},
     "output_type": "execute_result"
    },
    {
     "data": {
      "text/plain": [
       "Text(0.5, 1.0, 'Total explained variance per components')"
      ]
     },
     "execution_count": 229,
     "metadata": {},
     "output_type": "execute_result"
    },
    {
     "data": {
      "image/png": "[encoded data removed]",
      "text/plain": [
       "<Figure size 720x720 with 1 Axes>"
      ]
     },
     "metadata": {},
     "output_type": "display_data"
    }
   ],
   "source": [
    "# Deciding the number of components for PCA\n",
    "temp = []\n",
    "n_components = np.arange(3,30)\n",
    "for n in n_components:\n",
    "    pca = PCA(n_components = n)\n",
    "    pca.fit_transform(X_ros)\n",
    "    total_variance = pca.explained_variance_ratio_.sum()\n",
    "    temp.append(total_variance)\n",
    "\n",
    "sns.set_style('whitegrid')\n",
    "sns.set_palette('bwr')\n",
    "plt.figure(figsize = (10,10))\n",
    "plt.plot(n_components, temp)\n",
    "plt.xlabel('Number of components')\n",
    "plt.ylabel('Total explained variance')\n",
    "plt.title('Total explained variance per components')\n",
    "plt.show()"
   ]
  },
  {
   "cell_type": "markdown",
   "metadata": {},
   "source": [
    "We can see from the plot that the first 3 components have already explained 80% variance."
   ]
  },
  {
   "cell_type": "code",
   "execution_count": 230,
   "metadata": {},
   "outputs": [],
   "source": [
    "scaler = StandardScaler()\n",
    "X_scaled_ros = scaler.fit_transform(X_ros)\n",
    "pca = PCA(n_components=15)\n",
    "X_pca_ros = pca.fit_transform(X_scaled_ros)"
   ]
  },
  {
   "cell_type": "markdown",
   "metadata": {},
   "source": [
    "Since gridsearch takes quite a long time, I use randomsearch instead."
   ]
  },
  {
   "cell_type": "code",
   "execution_count": 231,
   "metadata": {},
   "outputs": [
    {
     "data": {
      "text/plain": [
       "RandomizedSearchCV(cv=5, estimator=SVC(kernel='linear'),\n",
       "                   param_distributions={'C': [1, 10, 20], 'gamma': [0.1, 0.5],\n",
       "                                        'kernel': ['linear', 'rbf']})"
      ]
     },
     "execution_count": 231,
     "metadata": {},
     "output_type": "execute_result"
    },
    {
     "name": "stdout",
     "output_type": "stream",
     "text": [
      "Best hyperparameters: {'kernel': 'rbf', 'gamma': 0.5, 'C': 20}\n",
      "Best score: 0.95\n"
     ]
    }
   ],
   "source": [
    "from sklearn.model_selection import RandomizedSearchCV\n",
    "from scipy.stats import uniform\n",
    "from sklearn import svm\n",
    "from sklearn.svm import SVC\n",
    "param_dist = {'C': [1, 10, 20], 'gamma': [0.1, 0.5], 'kernel': ['linear', 'rbf']}\n",
    "svm = svm.SVC(kernel='linear')\n",
    "n_iter_search = 10\n",
    "random_search = RandomizedSearchCV(svm, param_distributions=param_dist, n_iter=n_iter_search, cv=5)\n",
    "random_search.fit(X_ros, y_ros)\n",
    "print(\"Best hyperparameters: {}\".format(random_search.best_params_))\n",
    "print(\"Best score: {:.2f}\".format(random_search.best_score_))"
   ]
  },
  {
   "cell_type": "code",
   "execution_count": 232,
   "metadata": {},
   "outputs": [
    {
     "name": "stdout",
     "output_type": "stream",
     "text": [
      "SVM\n"
     ]
    },
    {
     "data": {
      "text/plain": [
       "SVC(C=20, gamma=0.5)"
      ]
     },
     "execution_count": 232,
     "metadata": {},
     "output_type": "execute_result"
    }
   ],
   "source": [
    "from sklearn.model_selection import cross_val_score\n",
    "from sklearn import svm\n",
    "from sklearn.svm import SVC\n",
    "print(\"SVM\")\n",
    "svm_model=SVC(C=20, gamma=0.5)\n",
    "X_train, X_test, y_train, y_test = train_test_split(X_pca_ros, y_ros, test_size=0.1, random_state=42)\n",
    "svm_model.fit(X_train, y_train)\n",
    "svm_pred = svm_model.predict(X_test)"
   ]
  },
  {
   "cell_type": "code",
   "execution_count": 233,
   "metadata": {},
   "outputs": [
    {
     "name": "stdout",
     "output_type": "stream",
     "text": [
      "\tSVM model Accuracy: 83.9%, Recall 84.1%, Precision 83.5%\n"
     ]
    }
   ],
   "source": [
    "name = \"SVM model\"\n",
    "\n",
    "accuracy_test = accuracy_score(y_test, svm_pred)\n",
    "recall_test = recall_score(y_test, svm_pred, pos_label=1, average=\"binary\")\n",
    "precision_test = precision_score(y_test,   svm_pred, pos_label=1, average=\"binary\", zero_division=1)\n",
    "\n",
    "print(\"\\t{m:s} Accuracy: {a:3.1%}, Recall {r:3.1%}, Precision {p:3.1%}\".format(m=name,\n",
    "                                                                            a=accuracy_test,\n",
    "                                                                            r=recall_test,\n",
    "                                                                            p=precision_test\n",
    "                                                                            )\n",
    "         )"
   ]
  },
  {
   "cell_type": "code",
   "execution_count": 234,
   "metadata": {},
   "outputs": [
    {
     "data": {
      "text/plain": [
       "<AxesSubplot:>"
      ]
     },
     "execution_count": 234,
     "metadata": {},
     "output_type": "execute_result"
    },
    {
     "data": {
      "text/plain": [
       "Text(0.5, 16.0, 'Predicted')"
      ]
     },
     "execution_count": 234,
     "metadata": {},
     "output_type": "execute_result"
    },
    {
     "data": {
      "text/plain": [
       "Text(34.0, 0.5, 'Actual')"
      ]
     },
     "execution_count": 234,
     "metadata": {},
     "output_type": "execute_result"
    },
    {
     "data": {
      "text/plain": [
       "Text(0.5, 1.0, 'Confusion Matrix for SVM')"
      ]
     },
     "execution_count": 234,
     "metadata": {},
     "output_type": "execute_result"
    },
    {
     "data": {
      "image/png": "[encoded data removed]",
      "text/plain": [
       "<Figure size 432x288 with 2 Axes>"
      ]
     },
     "metadata": {},
     "output_type": "display_data"
    }
   ],
   "source": [
    "from sklearn.metrics import confusion_matrix\n",
    "cm = confusion_matrix(y_test, svm_pred)\n",
    "sns.heatmap(cm, annot=True, cmap='Blues', fmt='g')\n",
    "plt.xlabel('Predicted')\n",
    "plt.ylabel('Actual')\n",
    "plt.title('Confusion Matrix for SVM')\n",
    "plt.show()"
   ]
  },
  {
   "cell_type": "code",
   "execution_count": 235,
   "metadata": {},
   "outputs": [
    {
     "name": "stdout",
     "output_type": "stream",
     "text": [
      "Neural network\n",
      "iteration : 50000\n"
     ]
    },
    {
     "data": {
      "text/plain": [
       "MLPClassifier(activation='logistic', hidden_layer_sizes=(90, 90, 3),\n",
       "              max_iter=50000, random_state=1, solver='sgd')"
      ]
     },
     "execution_count": 235,
     "metadata": {},
     "output_type": "execute_result"
    },
    {
     "name": "stdout",
     "output_type": "stream",
     "text": [
      "sigmoid activation function test accuracy: 0.4911308203991131\n"
     ]
    }
   ],
   "source": [
    "from sklearn.metrics import classification_report\n",
    "print(\"Neural network\")\n",
    "print(\"iteration : 50000\")\n",
    "logistic_activation = MLPClassifier(activation = 'logistic', hidden_layer_sizes = (90,90,3), solver = \"sgd\", \n",
    "                                    random_state=1, max_iter=50000)\n",
    "logistic_activation.fit(X_train, y_train)\n",
    "logis_pred = logistic_activation.predict(X_test)\n",
    "score_logis = accuracy_score(logis_pred, y_test)\n",
    "print(\"sigmoid activation function test accuracy:\", score_logis)"
   ]
  },
  {
   "cell_type": "code",
   "execution_count": 236,
   "metadata": {},
   "outputs": [
    {
     "name": "stdout",
     "output_type": "stream",
     "text": [
      "\tNeural network model Accuracy: 49.1%, Recall 99.3%, Precision 49.3%\n"
     ]
    }
   ],
   "source": [
    "name = \"Neural network model\"\n",
    "\n",
    "accuracy_test = accuracy_score(y_test, logis_pred)\n",
    "recall_test = recall_score(y_test, logis_pred, pos_label=1, average=\"binary\")\n",
    "precision_test = precision_score(y_test,   logis_pred, pos_label=1, average=\"binary\", zero_division=1)\n",
    "\n",
    "print(\"\\t{m:s} Accuracy: {a:3.1%}, Recall {r:3.1%}, Precision {p:3.1%}\".format(m=name,\n",
    "                                                                            a=accuracy_test,\n",
    "                                                                            r=recall_test,\n",
    "                                                                            p=precision_test\n",
    "                                                                            )\n",
    "         )"
   ]
  },
  {
   "cell_type": "code",
   "execution_count": 237,
   "metadata": {},
   "outputs": [
    {
     "data": {
      "text/plain": [
       "<AxesSubplot:>"
      ]
     },
     "execution_count": 237,
     "metadata": {},
     "output_type": "execute_result"
    },
    {
     "data": {
      "text/plain": [
       "Text(0.5, 16.0, 'Predicted')"
      ]
     },
     "execution_count": 237,
     "metadata": {},
     "output_type": "execute_result"
    },
    {
     "data": {
      "text/plain": [
       "Text(34.0, 0.5, 'Actual')"
      ]
     },
     "execution_count": 237,
     "metadata": {},
     "output_type": "execute_result"
    },
    {
     "data": {
      "text/plain": [
       "Text(0.5, 1.0, 'Confusion Matrix for Neural Network')"
      ]
     },
     "execution_count": 237,
     "metadata": {},
     "output_type": "execute_result"
    },
    {
     "data": {
      "image/png": "[encoded data removed]",
      "text/plain": [
       "<Figure size 432x288 with 2 Axes>"
      ]
     },
     "metadata": {},
     "output_type": "display_data"
    }
   ],
   "source": [
    "cm = confusion_matrix(y_test, logis_pred)\n",
    "sns.heatmap(cm, annot=True, cmap='Blues', fmt='g')\n",
    "plt.xlabel('Predicted')\n",
    "plt.ylabel('Actual')\n",
    "plt.title('Confusion Matrix for Neural Network')\n",
    "plt.show()"
   ]
  },
  {
   "cell_type": "markdown",
   "metadata": {},
   "source": [
    "# Check your work: predict and evaluate metrics on *your* test examples\n",
    "\n",
    "Although only the instructors have the correct labels for the holdout dataset, you may want\n",
    "to create your own test dataset on which to evaluate your out of sample metrics.\n",
    "\n",
    "If you choose to do so, you can evaluate your models using the same metrics that the instructors will use.\n",
    "\n",
    "- Test whether your implementation of `MyModel` works\n",
    "- See the metrics  your model produces"
   ]
  },
  {
   "cell_type": "code",
   "execution_count": 238,
   "metadata": {},
   "outputs": [],
   "source": [
    "import pandas as pd\n",
    "import os\n",
    "\n",
    "def MyModel(X):\n",
    "    # It should create an array of predictions; we initialize it to the empty array for convenience\n",
    "    \n",
    "    # YOUR CODE GOES HERE\n",
    "    model = tree.DecisionTreeClassifier(\n",
    "    max_depth=10,\n",
    "    min_samples_split=10,\n",
    "    min_samples_leaf=5,\n",
    "    random_state=42)\n",
    "    model = model.fit(X_train, y_train)\n",
    "    \n",
    "    predictions = model.predict(X)\n",
    "    return predictions\n"
   ]
  },
  {
   "cell_type": "code",
   "execution_count": 239,
   "metadata": {},
   "outputs": [],
   "source": [
    "#random_out=holdout_data.iloc[:, :-1]\n",
    "#X_test=random_out.sample(n=482,axis='rows')"
   ]
  },
  {
   "cell_type": "code",
   "execution_count": 240,
   "metadata": {},
   "outputs": [
    {
     "name": "stdout",
     "output_type": "stream",
     "text": [
      "\tMy best model---Decision tree model:  Accuracy: 84.6%, Recall 90.1%, Precision 80.9%\n"
     ]
    }
   ],
   "source": [
    "name = \"My best model---Decision tree model: \"\n",
    "y_test_pred = MyModel(X_test)\n",
    "\n",
    "accuracy_test = accuracy_score(y_test, y_test_pred)\n",
    "recall_test = recall_score(y_test, y_test_pred, pos_label=1, average=\"binary\")\n",
    "precision_test = precision_score(y_test, y_test_pred, pos_label=1, average=\"binary\")\n",
    "\n",
    "print(\"\\t{m:s} Accuracy: {a:3.1%}, Recall {r:3.1%}, Precision {p:3.1%}\".format(m=name,\n",
    "                                                                            a=accuracy_test,\n",
    "                                                                            r=recall_test,\n",
    "                                                                            p=precision_test\n",
    "                                                                            )\n",
    "         )"
   ]
  },
  {
   "cell_type": "code",
   "execution_count": 241,
   "metadata": {},
   "outputs": [
    {
     "data": {
      "text/plain": [
       "<AxesSubplot:>"
      ]
     },
     "execution_count": 241,
     "metadata": {},
     "output_type": "execute_result"
    },
    {
     "data": {
      "text/plain": [
       "Text(0.5, 16.0, 'Predicted')"
      ]
     },
     "execution_count": 241,
     "metadata": {},
     "output_type": "execute_result"
    },
    {
     "data": {
      "text/plain": [
       "Text(34.0, 0.5, 'Actual')"
      ]
     },
     "execution_count": 241,
     "metadata": {},
     "output_type": "execute_result"
    },
    {
     "data": {
      "text/plain": [
       "Text(0.5, 1.0, 'Confusion Matrix for Decision tree')"
      ]
     },
     "execution_count": 241,
     "metadata": {},
     "output_type": "execute_result"
    },
    {
     "data": {
      "image/png": "[encoded data removed]",
      "text/plain": [
       "<Figure size 432x288 with 2 Axes>"
      ]
     },
     "metadata": {},
     "output_type": "display_data"
    }
   ],
   "source": [
    "cm = confusion_matrix(y_test, y_test_pred)\n",
    "sns.heatmap(cm, annot=True, cmap='Blues', fmt='g')\n",
    "plt.xlabel('Predicted')\n",
    "plt.ylabel('Actual')\n",
    "plt.title('Confusion Matrix for Decision tree')\n",
    "plt.show()"
   ]
  },
  {
   "cell_type": "markdown",
   "metadata": {},
   "source": [
    "I choose decision tree as my best model as its recall and precision are more in line with my expectation.\n",
    "As we know that \"You may assume that it is 5 times worse to fail to identify a company that will go bankrupt than it is to fail to identify a company that won't go bankrupt\", it indicates that we should have the recall higher than precision when trying to make trade-off between Recall and Precision. I set the test size to be small in order to achive this goal which larger proportion of the data will be used for training the model. Thus the model has more training data to learn from and can better capture the patterns in the data that are associated with the positive class. However, SVM model and neural network model fail to achieve this goal. I try to increase the penalty parameter of the error term of SVM model \"c\", but even I increase to 20000 recall is still smaller than precision. "
   ]
  },
  {
   "cell_type": "code",
   "execution_count": null,
   "metadata": {},
   "outputs": [],
   "source": []
  }
 ],
 "metadata": {
  "kernelspec": {
   "display_name": "Python 3 (ipykernel)",
   "language": "python",
   "name": "python3"
  },
  "language_info": {
   "codemirror_mode": {
    "name": "ipython",
    "version": 3
   },
   "file_extension": ".py",
   "mimetype": "text/x-python",
   "name": "python",
   "nbconvert_exporter": "python",
   "pygments_lexer": "ipython3",
   "version": "3.9.12"
  },
  "toc": {
   "base_numbering": 1,
   "nav_menu": {},
   "number_sections": true,
   "sideBar": true,
   "skip_h1_title": false,
   "title_cell": "Table of Contents",
   "title_sidebar": "Contents",
   "toc_cell": false,
   "toc_position": {
    "height": "calc(100% - 180px)",
    "left": "10px",
    "top": "150px",
    "width": "370.594px"
   },
   "toc_section_display": true,
   "toc_window_display": true
  }
 },
 "nbformat": 4,
 "nbformat_minor": 2
}
